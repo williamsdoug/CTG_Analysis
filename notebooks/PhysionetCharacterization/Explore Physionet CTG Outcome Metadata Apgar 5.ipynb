{
 "cells": [
  {
   "cell_type": "markdown",
   "metadata": {},
   "source": [
    "# Explore Physionet CTG Outcome Metadata Apgar 5\n",
    "\n",
    "see: https://physionet.org/physiobank/database/ctu-uhb-ctgdb/\n",
    "\n",
    "Includes:\n",
    "- Plots of various outcome metrics vs apgar 5\n",
    "- Regression models to predict apgar5 from other outcome metrics"
   ]
  },
  {
   "cell_type": "code",
   "execution_count": 1,
   "metadata": {},
   "outputs": [],
   "source": [
    "import config_local\n",
    "from config_common import *"
   ]
  },
  {
   "cell_type": "code",
   "execution_count": 2,
   "metadata": {},
   "outputs": [],
   "source": [
    "import wfdb\n",
    "import os\n",
    "from pprint import pprint\n",
    "\n",
    "import numpy as np\n",
    "import matplotlib.pyplot as plt\n",
    "import scipy\n",
    "import scipy.signal\n",
    "from sklearn import svm\n",
    "import math\n",
    "import collections"
   ]
  },
  {
   "cell_type": "code",
   "execution_count": 3,
   "metadata": {},
   "outputs": [],
   "source": [
    "from ctg_utils import get_all_recno, parse_meta_comments"
   ]
  },
  {
   "cell_type": "code",
   "execution_count": 4,
   "metadata": {},
   "outputs": [],
   "source": [
    "import random"
   ]
  },
  {
   "cell_type": "code",
   "execution_count": 5,
   "metadata": {},
   "outputs": [],
   "source": [
    "from sklearn.decomposition import PCA"
   ]
  },
  {
   "cell_type": "markdown",
   "metadata": {},
   "source": [
    "# Config"
   ]
  },
  {
   "cell_type": "markdown",
   "metadata": {},
   "source": [
    "# Code"
   ]
  },
  {
   "cell_type": "code",
   "execution_count": 6,
   "metadata": {},
   "outputs": [],
   "source": [
    "def jitter(x, w=2):\n",
    "    return x + (random.random()-0.5)/w"
   ]
  },
  {
   "cell_type": "code",
   "execution_count": 7,
   "metadata": {},
   "outputs": [],
   "source": [
    "def display_metric_vs_apgar(metric, apgar, title='', xlabel='', ylabel='', \n",
    "                            limits=None, thresh=None):\n",
    "    plt.figure(figsize=(5,5))\n",
    "    if title:\n",
    "        plt.title(title)\n",
    "    plt.scatter(metric, [jitter(x) for x in apgar], s=3)\n",
    "    if thresh:\n",
    "        plt.plot([thresh, thresh], [0, 10], 'r--')\n",
    "    plt.ylim(0, 10)\n",
    "    if limits:\n",
    "        plt.plot(limits, [7, 7], 'r--')\n",
    "        plt.xlim(*limits)\n",
    "    if ylabel:\n",
    "        plt.ylabel(ylabel)\n",
    "    if apgar:\n",
    "        plt.xlabel(xlabel)\n",
    "    plt.show()"
   ]
  },
  {
   "cell_type": "code",
   "execution_count": 8,
   "metadata": {},
   "outputs": [],
   "source": [
    "def display_predictions(actual, pred, title=None, xlabel='Apgar 5'):\n",
    "    all_error = [abs(val-pred[i])  for i, val in enumerate(actual)]\n",
    "    print('Error -- mean: {:0.2f}   std: {:0.2f}'.format(np.mean(all_error), np.std(all_error)))\n",
    "    \n",
    "    \n",
    "    plt.figure(figsize=(5,5))\n",
    "    if title:\n",
    "        plt.title(title)\n",
    "    plt.scatter([jitter(x) for x in actual], [x for x in pred], s=3)\n",
    "    plt.ylim(0, 10)\n",
    "    plt.xlim(0, 10)\n",
    "    plt.plot([0,10], [0, 10], 'g--', alpha=0.25)\n",
    "    plt.plot([0,9.5], [0.5, 10], 'r--', alpha=0.25)\n",
    "    plt.plot([0.5,10], [0, 9.5], 'r--', alpha=0.25)\n",
    "\n",
    "    plt.plot([7,7], [0, 10], 'r--', alpha=0.25)\n",
    "    plt.plot([0, 10], [7,7], 'r--', alpha=0.25)\n",
    "    plt.ylabel('Predicted {}'.format(xlabel))\n",
    "    plt.xlabel(xlabel)\n",
    "    plt.show()"
   ]
  },
  {
   "cell_type": "markdown",
   "metadata": {},
   "source": [
    "# Gather All Recording Metadata"
   ]
  },
  {
   "cell_type": "code",
   "execution_count": 9,
   "metadata": {
    "scrolled": true
   },
   "outputs": [],
   "source": [
    "all_meta = {}\n",
    "all_error = []\n",
    "for recno in sorted(get_all_recno(media_recordings_dir_full)):\n",
    "    recno_full = os.path.join(media_recordings_dir_full, recno)\n",
    "    #print('Record: {}'.format(recno))\n",
    "    try:\n",
    "        all_sig, meta = wfdb.io.rdsamp(recno_full)\n",
    "        meta['comments'] = parse_meta_comments(meta['comments'])\n",
    "        all_meta[recno] = meta['comments']\n",
    "    except Exception as e:\n",
    "        print('    Error: {}'.format(e))\n",
    "        all_error.append(recno)"
   ]
  },
  {
   "cell_type": "markdown",
   "metadata": {},
   "source": [
    "### Filter nan values"
   ]
  },
  {
   "cell_type": "code",
   "execution_count": 10,
   "metadata": {},
   "outputs": [
    {
     "name": "stdout",
     "output_type": "stream",
     "text": [
      "1044: Recording contains NaN\n",
      "1070: Recording contains NaN\n",
      "1211: Recording contains NaN\n",
      "1215: Recording contains NaN\n",
      "1356: Recording contains NaN\n",
      "1373: Recording contains NaN\n",
      "1383: Recording contains NaN\n",
      "1419: Recording contains NaN\n",
      "2006: Recording contains NaN\n",
      "2034: Recording contains NaN\n",
      "2046: Recording contains NaN\n"
     ]
    }
   ],
   "source": [
    "for recno in sorted(all_meta.keys()):\n",
    "    entry = all_meta[recno]['Outcome']\n",
    "    if math.isnan(entry['BDecf']):\n",
    "        print('{}: Recording contains NaN'.format(recno))\n",
    "        del all_meta[recno]"
   ]
  },
  {
   "cell_type": "markdown",
   "metadata": {},
   "source": [
    "# Outcomes"
   ]
  },
  {
   "cell_type": "code",
   "execution_count": 11,
   "metadata": {
    "scrolled": true
   },
   "outputs": [
    {
     "name": "stdout",
     "output_type": "stream",
     "text": [
      "1001: pH: 7.14   BDecf:  8.14    pCO2:  7.70    BE: -10.50    Apgar1:  6    Apgar5:  8\n",
      "1002: pH: 7.00   BDecf:  7.92    pCO2: 12.00    BE: -12.00    Apgar1:  8    Apgar5:  8\n",
      "1003: pH: 7.20   BDecf:  3.03    pCO2:  8.30    BE:  -5.60    Apgar1:  7    Apgar5:  9\n",
      "1004: pH: 7.30   BDecf:  5.19    pCO2:  5.50    BE:  -6.40    Apgar1:  8    Apgar5:  9\n",
      "1005: pH: 7.30   BDecf:  4.52    pCO2:  5.70    BE:  -5.80    Apgar1:  9    Apgar5: 10\n",
      "1006: pH: 7.23   BDecf:  1.29    pCO2:  8.20    BE:  -3.80    Apgar1:  8    Apgar5:  9\n",
      "1007: pH: 7.16   BDecf:  4.35    pCO2:  8.80    BE:  -6.80    Apgar1:  9    Apgar5: 10\n",
      "1008: pH: 7.36   BDecf:  3.88    pCO2:  4.90    BE:  -4.60    Apgar1:  8    Apgar5:  9\n",
      "1009: pH: 7.18   BDecf:  7.60    pCO2:  7.00    BE:  -9.60    Apgar1:  8    Apgar5:  9\n",
      "1010: pH: 7.35   BDecf:  5.20    pCO2:  4.70    BE:  -5.90    Apgar1:  8    Apgar5:  9\n",
      "1011: pH: 7.37   BDecf:  1.73    pCO2:  5.30    BE:  -2.60    Apgar1:  8    Apgar5:  9\n",
      "1012: pH: 7.36   BDecf:  0.82    pCO2:  5.70    BE:  -1.50    Apgar1:  9    Apgar5: 10\n",
      "1013: pH: 7.22   BDecf:  5.30    pCO2:  7.00    BE:  -7.30    Apgar1:  5    Apgar5:  9\n",
      "1014: pH: 7.14   BDecf:  9.75    pCO2:  7.00    BE: -11.70    Apgar1:  9    Apgar5:  9\n",
      "1015: pH: 7.20   BDecf:  5.15    pCO2:  7.50    BE:  -7.30    Apgar1:  9    Apgar5:  9\n",
      "1016: pH: 7.32   BDecf:  4.73    pCO2:  5.30    BE:  -5.90    Apgar1:  9    Apgar5: 10\n",
      "1017: pH: 7.00   BDecf: 11.10    pCO2: 10.10    BE: -15.00    Apgar1:  6    Apgar5:  7\n",
      "1018: pH: 7.09   BDecf:  9.58    pCO2:  8.30    BE: -12.10    Apgar1:  8    Apgar5:  8\n",
      "1019: pH: 7.15   BDecf:  6.40    pCO2:  8.20    BE:  -8.80    Apgar1:  9    Apgar5:  9\n",
      "1020: pH: 7.37   BDecf:  3.29    pCO2:  4.90    BE:  -3.70    Apgar1:  8    Apgar5:  8\n",
      "1021: pH: 7.21   BDecf:  2.10    pCO2:  8.40    BE:  -4.60    Apgar1:  5    Apgar5:  8\n",
      "1022: pH: 7.28   BDecf:  1.53    pCO2:  7.00    BE:  -3.00    Apgar1: 10    Apgar5: 10\n",
      "1023: pH: 7.30   BDecf:  3.19    pCO2:  6.10    BE:  -4.50    Apgar1:  9    Apgar5: 10\n",
      "1024: pH: 7.43   BDecf:  0.91    pCO2:  4.60    BE:  -1.30    Apgar1:  9    Apgar5: 10\n",
      "1025: pH: 7.34   BDecf:  3.56    pCO2:  5.30    BE:  -4.40    Apgar1:  9    Apgar5:  9\n",
      "1026: pH: 7.27   BDecf:  5.61    pCO2:  5.90    BE:  -7.00    Apgar1:  5    Apgar5:  7\n",
      "1027: pH: 7.33   BDecf:  3.08    pCO2:  5.60    BE:  -4.30    Apgar1:  9    Apgar5:  9\n",
      "1028: pH: 7.25   BDecf:  4.66    pCO2:  6.60    BE:  -6.00    Apgar1:  9    Apgar5:  9\n",
      "1029: pH: 6.97   BDecf: 19.38    pCO2:  5.80    BE: -21.50    Apgar1:  8    Apgar5:  8\n",
      "1030: pH: 7.16   BDecf:  8.45    pCO2:  7.10    BE: -10.40    Apgar1:  7    Apgar5:  8\n",
      "1031: pH: 7.31   BDecf:  1.88    pCO2:  6.30    BE:  -3.50    Apgar1:  9    Apgar5:  9\n",
      "1032: pH: 7.30   BDecf:  5.19    pCO2:  5.50    BE:  -6.30    Apgar1:  9    Apgar5:  9\n",
      "1033: pH: 7.32   BDecf:  0.89    pCO2:  6.40    BE:  -2.70    Apgar1:  9    Apgar5:  9\n",
      "1034: pH: 7.23   BDecf:  2.15    pCO2:  7.90    BE:  -4.40    Apgar1:  8    Apgar5:  9\n",
      "1035: pH: 7.28   BDecf:  5.36    pCO2:  5.80    BE:  -6.80    Apgar1:  5    Apgar5:  8\n",
      "1036: pH: 7.08   BDecf:  8.11    pCO2:  9.30    BE: -11.20    Apgar1:  8    Apgar5:  9\n",
      "1037: pH: 7.14   BDecf:  9.75    pCO2:  7.00    BE: -11.90    Apgar1:  5    Apgar5:  6\n",
      "1038: pH: 7.33   BDecf:  2.72    pCO2:  5.70    BE:  -4.00    Apgar1: 10    Apgar5: 10\n",
      "1039: pH: 7.11   BDecf:  8.05    pCO2:  8.50    BE: -11.00    Apgar1:  8    Apgar5:  9\n",
      "1040: pH: 7.17   BDecf:  2.22    pCO2:  9.40    BE:  -5.40    Apgar1:  8    Apgar5:  8\n",
      "1041: pH: 7.14   BDecf:  9.06    pCO2:  7.30    BE: -10.20    Apgar1:  8    Apgar5:  9\n",
      "1042: pH: 7.13   BDecf:  5.99    pCO2:  8.90    BE:  -8.50    Apgar1:  8    Apgar5:  8\n",
      "1043: pH: 7.27   BDecf:  3.12    pCO2:  6.70    BE:  -4.80    Apgar1:  8    Apgar5:  9\n",
      "1045: pH: 7.26   BDecf:  5.57    pCO2:  6.10    BE:  -7.00    Apgar1:  8    Apgar5:  9\n",
      "1046: pH: 7.29   BDecf:  4.45    pCO2:  5.90    BE:  -5.60    Apgar1:  9    Apgar5: 10\n",
      "1047: pH: 7.19   BDecf:  7.56    pCO2:  6.80    BE:  -9.20    Apgar1:  7    Apgar5:  8\n",
      "1048: pH: 7.20   BDecf:  4.88    pCO2:  7.60    BE:  -6.70    Apgar1:  9    Apgar5: 10\n",
      "1049: pH: 7.24   BDecf:  7.28    pCO2:  5.90    BE:  -8.30    Apgar1:  8    Apgar5:  8\n",
      "1050: pH: 7.29   BDecf:  2.82    pCO2:  6.40    BE:  -4.40    Apgar1:  7    Apgar5:  9\n",
      "1051: pH: 7.25   BDecf:  5.55    pCO2:  6.30    BE:  -7.20    Apgar1: 10    Apgar5: 10\n",
      "1052: pH: 7.18   BDecf:  1.53    pCO2:  9.40    BE:  -4.40    Apgar1:  7    Apgar5:  8\n",
      "1053: pH: 7.35   BDecf:  3.33    pCO2:  5.20    BE:  -4.10    Apgar1:  9    Apgar5:  9\n",
      "1054: pH: 7.19   BDecf:  4.45    pCO2:  8.00    BE:  -6.40    Apgar1:  9    Apgar5: 10\n",
      "1055: pH: 7.28   BDecf:  2.49    pCO2:  6.70    BE:  -4.40    Apgar1:  9    Apgar5: 10\n",
      "1056: pH: 7.32   BDecf:  5.08    pCO2:  5.20    BE:  -5.80    Apgar1: 10    Apgar5: 10\n",
      "1057: pH: 7.27   BDecf:  1.26    pCO2:  7.30    BE:  -2.90    Apgar1:  9    Apgar5: 10\n",
      "1058: pH: 7.05   BDecf:  6.23    pCO2: 11.20    BE:  -9.70    Apgar1:  7    Apgar5:  8\n",
      "1059: pH: 7.15   BDecf:  9.70    pCO2:  6.80    BE: -11.70    Apgar1:  8    Apgar5:  9\n",
      "1060: pH: 7.36   BDecf:  3.88    pCO2:  4.90    BE:  -4.30    Apgar1:  9    Apgar5:  9\n",
      "1061: pH: 7.22   BDecf:  2.80    pCO2:  7.90    BE:  -4.90    Apgar1:  9    Apgar5:  9\n",
      "1062: pH: 7.13   BDecf:  4.63    pCO2:  9.50    BE:  -7.40    Apgar1:  4    Apgar5:  7\n",
      "1063: pH: 7.16   BDecf:  5.56    pCO2:  8.30    BE:  -7.90    Apgar1:  9    Apgar5: 10\n",
      "1064: pH: 7.22   BDecf:  3.08    pCO2:  7.80    BE:  -5.00    Apgar1:  8    Apgar5:  9\n",
      "1065: pH: 7.13   BDecf:  8.24    pCO2:  7.90    BE: -10.30    Apgar1:  1    Apgar5:  5\n",
      "1066: pH: 7.27   BDecf:  4.99    pCO2:  6.10    BE:  -6.20    Apgar1:  9    Apgar5: 10\n",
      "1067: pH: 7.15   BDecf:  4.27    pCO2:  9.10    BE:  -7.20    Apgar1:  7    Apgar5:  8\n",
      "1068: pH: 7.34   BDecf:  2.83    pCO2:  5.50    BE:  -4.00    Apgar1:  9    Apgar5:  9\n",
      "1069: pH: 7.33   BDecf:  4.86    pCO2:  5.10    BE:  -5.40    Apgar1:  9    Apgar5: 10\n",
      "1071: pH: 6.98   BDecf: 14.71    pCO2:  8.50    BE: -17.40    Apgar1:  6    Apgar5:  8\n",
      "1072: pH: 7.29   BDecf:  3.15    pCO2:  6.30    BE:  -4.60    Apgar1:  9    Apgar5:  9\n",
      "1073: pH: 7.13   BDecf:  7.11    pCO2:  8.40    BE:  -9.80    Apgar1: 10    Apgar5: 10\n",
      "1074: pH: 7.33   BDecf:  3.79    pCO2:  5.40    BE:  -4.70    Apgar1:  6    Apgar5:  7\n",
      "1075: pH: 7.14   BDecf:  8.14    pCO2:  7.70    BE: -10.60    Apgar1:  8    Apgar5:  9\n",
      "1076: pH: 7.21   BDecf:  3.99    pCO2:  7.70    BE:  -6.00    Apgar1:  9    Apgar5:  9\n",
      "1077: pH: 7.22   BDecf:  6.69    pCO2:  6.50    BE:  -8.00    Apgar1:  6    Apgar5:  7\n",
      "1078: pH: 7.30   BDecf:  3.52    pCO2:  6.00    BE:  -4.50    Apgar1:  8    Apgar5:  9\n",
      "1079: pH: 7.17   BDecf:  7.91    pCO2:  7.10    BE:  -9.90    Apgar1:  8    Apgar5:  9\n",
      "1080: pH: 7.16   BDecf:  6.76    pCO2:  7.80    BE:  -9.00    Apgar1:  8    Apgar5:  9\n",
      "1081: pH: 7.29   BDecf: -0.11    pCO2:  7.30    BE:  -1.70    Apgar1:  9    Apgar5:  9\n",
      "1082: pH: 7.21   BDecf:  5.35    pCO2:  7.20    BE:  -7.00    Apgar1:  8    Apgar5:  9\n",
      "1083: pH: 7.29   BDecf:  0.54    pCO2:  7.10    BE:  -2.10    Apgar1:  9    Apgar5: 10\n",
      "1084: pH: 7.22   BDecf:  1.42    pCO2:  8.40    BE:  -4.00    Apgar1:  3    Apgar5:  8\n",
      "1085: pH: 7.13   BDecf:  4.41    pCO2:  9.60    BE:  -7.60    Apgar1:  6    Apgar5:  8\n",
      "1086: pH: 7.25   BDecf:  3.47    pCO2:  7.00    BE:  -4.90    Apgar1:  9    Apgar5: 10\n",
      "1087: pH: 7.20   BDecf:  7.27    pCO2:  6.70    BE:  -9.10    Apgar1:  6    Apgar5:  7\n",
      "1088: pH: 7.25   BDecf:  2.58    pCO2:  7.30    BE:  -4.50    Apgar1:  8    Apgar5:  8\n",
      "1089: pH: 7.24   BDecf:  3.51    pCO2:  7.20    BE:  -5.20    Apgar1:  8    Apgar5: 10\n",
      "1090: pH: 7.17   BDecf:  4.20    pCO2:  8.60    BE:  -6.60    Apgar1:  9    Apgar5: 10\n",
      "1091: pH: 7.21   BDecf:  5.08    pCO2:  7.30    BE:  -6.90    Apgar1:  8    Apgar5:  9\n",
      "1092: pH: 7.26   BDecf:  2.53    pCO2:  7.10    BE:  -4.40    Apgar1:  9    Apgar5:  9\n",
      "1093: pH: 7.27   BDecf:  0.01    pCO2:  7.70    BE:  -2.20    Apgar1:  9    Apgar5: 10\n",
      "1094: pH: 7.20   BDecf:  4.09    pCO2:  7.90    BE:  -6.50    Apgar1:  9    Apgar5:  9\n",
      "1095: pH: 7.35   BDecf:  3.33    pCO2:  5.20    BE:  -4.00    Apgar1:  9    Apgar5:  9\n",
      "1096: pH: 7.27   BDecf:  4.68    pCO2:  6.20    BE:  -6.10    Apgar1:  8    Apgar5:  9\n",
      "1097: pH: 7.18   BDecf:  4.31    pCO2:  8.30    BE:  -6.50    Apgar1:  9    Apgar5:  9\n",
      "1098: pH: 7.30   BDecf: -1.48    pCO2:  7.50    BE:  -0.30    Apgar1:  9    Apgar5:  9\n",
      "1099: pH: 7.14   BDecf:  6.75    pCO2:  8.30    BE:  -9.00    Apgar1:  4    Apgar5:  7\n",
      "1100: pH: 7.18   BDecf:  5.33    pCO2:  7.90    BE:  -7.80    Apgar1:  4    Apgar5:  7\n",
      "1101: pH: 7.16   BDecf:  3.38    pCO2:  9.20    BE:  -6.30    Apgar1:  6    Apgar5:  8\n",
      "1102: pH: 7.35   BDecf: -3.40    pCO2:  7.00    BE:  -5.60    Apgar1:  9    Apgar5: 10\n",
      "1103: pH: 7.31   BDecf:  0.86    pCO2:  6.60    BE:  -2.60    Apgar1: 10    Apgar5: 10\n",
      "1104: pH: 6.92   BDecf: 23.75    pCO2:  3.90    BE: -26.10    Apgar1:  8    Apgar5:  9\n",
      "1105: pH: 7.27   BDecf:  2.19    pCO2:  7.00    BE:  -3.90    Apgar1:  6    Apgar5:  9\n",
      "1106: pH: 7.25   BDecf:  3.47    pCO2:  7.00    BE:  -5.10    Apgar1:  9    Apgar5: 10\n",
      "1107: pH: 7.32   BDecf:  2.28    pCO2:  6.00    BE:  -3.60    Apgar1: 10    Apgar5: 10\n",
      "1108: pH: 7.02   BDecf: 12.81    pCO2:  8.50    BE: -15.50    Apgar1:  7    Apgar5:  8\n",
      "1109: pH: 7.30   BDecf:  2.19    pCO2:  6.40    BE:  -3.50    Apgar1:  8    Apgar5:  8\n",
      "1110: pH: 7.27   BDecf:  5.92    pCO2:  5.80    BE:  -6.90    Apgar1:  8    Apgar5:  9\n",
      "1111: pH: 7.24   BDecf:  1.47    pCO2:  7.90    BE:  -4.00    Apgar1:  9    Apgar5: 10\n",
      "1112: pH: 7.19   BDecf:  4.45    pCO2:  8.00    BE:  -6.60    Apgar1:  9    Apgar5:  9\n",
      "1113: pH: 7.24   BDecf:  2.35    pCO2:  7.60    BE:  -4.60    Apgar1: 10    Apgar5: 10\n",
      "1114: pH: 7.24   BDecf:  2.93    pCO2:  7.40    BE:  -4.80    Apgar1:  9    Apgar5: 10\n",
      "1115: pH: 7.13   BDecf:  5.76    pCO2:  9.00    BE:  -8.70    Apgar1:  7    Apgar5:  8\n",
      "1116: pH: 7.24   BDecf:  1.47    pCO2:  7.90    BE:  -3.60    Apgar1:  9    Apgar5: 10\n",
      "1117: pH: 7.16   BDecf:  5.07    pCO2:  8.50    BE:  -7.60    Apgar1:  8    Apgar5:  9\n",
      "1118: pH: 7.09   BDecf:  8.76    pCO2:  8.70    BE: -11.70    Apgar1:  8    Apgar5:  9\n",
      "1119: pH: 7.34   BDecf:  5.02    pCO2:  4.90    BE:  -5.80    Apgar1: 10    Apgar5: 10\n",
      "1120: pH: 7.32   BDecf:  0.19    pCO2:  6.60    BE:  -1.90    Apgar1:  9    Apgar5: 10\n",
      "1121: pH: 7.07   BDecf:  9.27    pCO2:  9.00    BE: -11.80    Apgar1:  8    Apgar5: 10\n",
      "1122: pH: 7.25   BDecf:  3.76    pCO2:  6.90    BE:  -5.30    Apgar1:  9    Apgar5: 10\n",
      "1123: pH: 7.31   BDecf:  4.61    pCO2:  5.50    BE:  -5.50    Apgar1:  9    Apgar5: 10\n",
      "1124: pH: 7.26   BDecf:  1.31    pCO2:  7.50    BE:  -3.30    Apgar1:  8    Apgar5:  9\n",
      "1125: pH: 7.25   BDecf:  3.76    pCO2:  6.90    BE:  -5.70    Apgar1:  9    Apgar5: 10\n",
      "1126: pH: 7.18   BDecf:  6.59    pCO2:  7.40    BE:  -8.40    Apgar1:  7    Apgar5:  8\n",
      "1127: pH: 7.35   BDecf:  2.96    pCO2:  5.30    BE:  -4.10    Apgar1:  9    Apgar5:  9\n",
      "1128: pH: 7.16   BDecf:  4.59    pCO2:  8.70    BE:  -7.10    Apgar1:  8    Apgar5: 10\n",
      "1129: pH: 7.33   BDecf: -0.14    pCO2:  6.50    BE:  -1.50    Apgar1:  9    Apgar5: 10\n",
      "1130: pH: 7.10   BDecf:  9.45    pCO2:  8.10    BE: -11.80    Apgar1:  3    Apgar5:  7\n",
      "1131: pH: 7.33   BDecf:  3.43    pCO2:  5.50    BE:  -4.50    Apgar1:  8    Apgar5:  9\n",
      "1132: pH: 7.22   BDecf:  4.75    pCO2:  7.20    BE:  -6.70    Apgar1:  9    Apgar5:  9\n",
      "1133: pH: 7.13   BDecf:  7.56    pCO2:  8.20    BE: -10.40    Apgar1:  9    Apgar5:  9\n",
      "1134: pH: 7.27   BDecf:  2.81    pCO2:  6.80    BE:  -4.70    Apgar1: 10    Apgar5: 10\n",
      "1135: pH: 7.18   BDecf:  7.35    pCO2:  7.10    BE:  -9.40    Apgar1: 10    Apgar5: 10\n",
      "1136: pH: 7.17   BDecf:  5.19    pCO2:  8.20    BE:  -7.40    Apgar1:  9    Apgar5:  9\n",
      "1137: pH: 7.22   BDecf:  4.19    pCO2:  7.40    BE:  -6.20    Apgar1:  9    Apgar5:  9\n",
      "1138: pH: 7.16   BDecf:  7.73    pCO2:  7.40    BE:  -9.90    Apgar1:  9    Apgar5:  9\n",
      "1139: pH: 7.47   BDecf:  1.28    pCO2:  4.00    BE:  -1.40    Apgar1:  9    Apgar5: 10\n",
      "1140: pH: 7.18   BDecf:  6.84    pCO2:  7.30    BE:  -9.10    Apgar1:  5    Apgar5:  8\n",
      "1141: pH: 7.31   BDecf:  1.88    pCO2:  6.30    BE:  -3.30    Apgar1:  9    Apgar5:  9\n",
      "1142: pH: 7.33   BDecf:  4.86    pCO2:  5.10    BE:  -5.80    Apgar1:  9    Apgar5:  9\n",
      "1143: pH: 7.29   BDecf:  5.43    pCO2:  5.60    BE:  -6.40    Apgar1:  9    Apgar5: 10\n",
      "1144: pH: 7.28   BDecf:  5.36    pCO2:  5.80    BE:  -6.50    Apgar1:  9    Apgar5: 10\n",
      "1145: pH: 7.35   BDecf:  5.20    pCO2:  4.70    BE:  -5.70    Apgar1:  9    Apgar5: 10\n",
      "1146: pH: 7.22   BDecf:  4.19    pCO2:  7.40    BE:  -6.10    Apgar1:  7    Apgar5:  8\n",
      "1147: pH: 7.10   BDecf:  4.61    pCO2: 10.40    BE:  -7.80    Apgar1:  7    Apgar5:  8\n",
      "1148: pH: 7.32   BDecf:  3.68    pCO2:  5.60    BE:  -4.60    Apgar1:  9    Apgar5: 10\n",
      "1149: pH: 7.26   BDecf:  3.14    pCO2:  6.90    BE:  -5.00    Apgar1:  9    Apgar5: 10\n",
      "1150: pH: 7.31   BDecf:  1.20    pCO2:  6.50    BE:  -1.30    Apgar1:  9    Apgar5:  9\n",
      "1151: pH: 7.20   BDecf:  5.41    pCO2:  7.40    BE:  -7.40    Apgar1:  9    Apgar5:  9\n",
      "1152: pH: 7.23   BDecf:  0.16    pCO2:  8.60    BE:  -2.30    Apgar1:  8    Apgar5: 10\n",
      "1153: pH: 7.29   BDecf:  4.13    pCO2:  6.00    BE:  -5.30    Apgar1:  9    Apgar5:  9\n",
      "1154: pH: 7.18   BDecf:  9.12    pCO2:  6.40    BE: -10.80    Apgar1:  3    Apgar5:  7\n",
      "1155: pH: 7.34   BDecf:  2.10    pCO2:  5.70    BE:  -3.20    Apgar1:  9    Apgar5:  9\n",
      "1156: pH: 7.03   BDecf: 11.42    pCO2:  9.00    BE: -14.30    Apgar1:  6    Apgar5:  8\n",
      "1157: pH: 7.11   BDecf:  8.69    pCO2:  8.20    BE: -11.00    Apgar1:  7    Apgar5:  8\n",
      "1158: pH: 6.87   BDecf: 16.90    pCO2: 10.50    BE: -20.50    Apgar1:  3    Apgar5:  4\n",
      "1159: pH: 7.26   BDecf:  4.66    pCO2:  6.40    BE:  -5.90    Apgar1:  7    Apgar5:  8\n",
      "1160: pH: 7.16   BDecf:  6.28    pCO2:  8.00    BE:  -8.90    Apgar1:  9    Apgar5:  9\n",
      "1161: pH: 7.12   BDecf:  7.69    pCO2:  8.40    BE: -10.50    Apgar1: 10    Apgar5: 10\n",
      "1162: pH: 7.35   BDecf:  4.83    pCO2:  4.80    BE:  -5.10    Apgar1: 10    Apgar5: 10\n",
      "1163: pH: 7.24   BDecf:  0.60    pCO2:  8.20    BE:  -2.70    Apgar1:  9    Apgar5:  9\n",
      "1164: pH: 7.05   BDecf:  6.80    pCO2: 10.90    BE: -10.20    Apgar1:  8    Apgar5:  9\n",
      "1165: pH: 7.38   BDecf:  1.09    pCO2:  5.30    BE:  -1.90    Apgar1:  8    Apgar5:  9\n",
      "1166: pH: 7.26   BDecf:  1.62    pCO2:  7.40    BE:  -3.80    Apgar1:  8    Apgar5: 10\n",
      "1167: pH: 7.36   BDecf:  5.03    pCO2:  4.60    BE:  -5.70    Apgar1:  9    Apgar5: 10\n",
      "1168: pH: 7.39   BDecf:  3.32    pCO2:  4.60    BE:  -3.70    Apgar1: 10    Apgar5: 10\n",
      "1169: pH: 7.23   BDecf:  3.56    pCO2:  7.40    BE:  -5.70    Apgar1: 10    Apgar5: 10\n",
      "1170: pH: 7.21   BDecf:  6.70    pCO2:  6.70    BE:  -8.60    Apgar1:  7    Apgar5:  8\n",
      "1171: pH: 7.19   BDecf:  2.38    pCO2:  8.80    BE:  -5.10    Apgar1:  9    Apgar5:  9\n",
      "1172: pH: 7.12   BDecf:  8.13    pCO2:  8.20    BE: -10.40    Apgar1:  4    Apgar5:  6\n",
      "1173: pH: 7.22   BDecf:  4.75    pCO2:  7.20    BE:  -6.90    Apgar1:  9    Apgar5:  9\n",
      "1174: pH: 7.25   BDecf:  3.17    pCO2:  7.10    BE:  -4.90    Apgar1:  9    Apgar5:  9\n",
      "1175: pH: 7.24   BDecf:  2.64    pCO2:  7.50    BE:  -5.00    Apgar1:  9    Apgar5:  9\n",
      "1176: pH: 7.22   BDecf:  7.80    pCO2:  6.10    BE:  -9.60    Apgar1:  8    Apgar5:  9\n",
      "1177: pH: 7.26   BDecf:  6.48    pCO2:  5.80    BE:  -6.30    Apgar1:  9    Apgar5:  9\n",
      "1178: pH: 7.20   BDecf:  6.74    pCO2:  6.90    BE:  -8.40    Apgar1:  9    Apgar5:  9\n",
      "1179: pH: 7.35   BDecf:  2.96    pCO2:  5.30    BE:  -3.60    Apgar1:  9    Apgar5:  9\n",
      "1180: pH: 7.07   BDecf:  9.07    pCO2:  9.10    BE: -12.00    Apgar1:  8    Apgar5:  8\n",
      "1181: pH: 7.20   BDecf:  8.06    pCO2:  6.40    BE:  -9.40    Apgar1:  9    Apgar5: 10\n",
      "1182: pH: 7.27   BDecf: -0.61    pCO2:  7.90    BE:  -1.70    Apgar1:  9    Apgar5:  9\n",
      "1183: pH: 7.28   BDecf:  4.08    pCO2:  6.20    BE:  -5.50    Apgar1:  9    Apgar5: 10\n",
      "1184: pH: 7.26   BDecf:  2.83    pCO2:  7.00    BE:  -4.70    Apgar1:  9    Apgar5: 10\n",
      "1185: pH: 7.12   BDecf:  9.24    pCO2:  7.70    BE: -11.70    Apgar1:  9    Apgar5:  9\n",
      "1186: pH: 7.27   BDecf:  0.94    pCO2:  7.40    BE:  -3.10    Apgar1:  9    Apgar5: 10\n",
      "1187: pH: 7.08   BDecf:  5.90    pCO2: 10.40    BE:  -9.00    Apgar1:  9    Apgar5:  9\n",
      "1188: pH: 7.19   BDecf:  1.09    pCO2:  9.30    BE:  -4.00    Apgar1:  9    Apgar5: 10\n",
      "1189: pH: 7.36   BDecf:  0.43    pCO2:  5.80    BE:  -2.00    Apgar1: 10    Apgar5: 10\n",
      "1190: pH: 7.21   BDecf:  1.28    pCO2:  8.70    BE:  -3.80    Apgar1:  9    Apgar5: 10\n",
      "1191: pH: 7.34   BDecf:  2.83    pCO2:  5.50    BE:  -4.00    Apgar1:  8    Apgar5:  8\n",
      "1192: pH: 7.30   BDecf:  0.52    pCO2:  6.90    BE:  -2.70    Apgar1:  9    Apgar5:  9\n",
      "1193: pH: 7.32   BDecf:  4.73    pCO2:  5.30    BE:  -5.80    Apgar1:  9    Apgar5: 10\n",
      "1194: pH: 7.35   BDecf:  3.33    pCO2:  5.20    BE:  -4.00    Apgar1:  9    Apgar5:  9\n",
      "1195: pH: 7.30   BDecf:  6.19    pCO2:  5.20    BE:  -7.30    Apgar1:  9    Apgar5:  9\n",
      "1196: pH: 7.17   BDecf:  5.93    pCO2:  7.90    BE:  -8.20    Apgar1:  9    Apgar5:  9\n",
      "1197: pH: 7.13   BDecf:  5.08    pCO2:  9.30    BE:  -8.20    Apgar1:  5    Apgar5:  7\n",
      "1198: pH: 7.03   BDecf:  8.01    pCO2: 10.90    BE: -11.30    Apgar1:  3    Apgar5:  4\n",
      "1199: pH: 7.02   BDecf:  9.66    pCO2: 10.30    BE: -12.80    Apgar1:  5    Apgar5:  7\n",
      "1200: pH: 7.25   BDecf:  5.85    pCO2:  6.20    BE:  -7.30    Apgar1:  7    Apgar5:  8\n",
      "1201: pH: 7.29   BDecf: -0.11    pCO2:  7.30    BE:  -6.10    Apgar1:  7    Apgar5:  9\n",
      "1202: pH: 7.13   BDecf:  7.56    pCO2:  8.20    BE:  -9.80    Apgar1:  8    Apgar5:  8\n",
      "1203: pH: 7.34   BDecf:  3.56    pCO2:  5.30    BE:  -4.50    Apgar1:  9    Apgar5:  9\n",
      "1204: pH: 7.32   BDecf:  3.68    pCO2:  5.60    BE:  -4.90    Apgar1:  9    Apgar5:  9\n",
      "1205: pH: 7.28   BDecf:  2.17    pCO2:  6.80    BE:  -4.20    Apgar1:  9    Apgar5:  9\n",
      "1206: pH: 7.24   BDecf:  2.06    pCO2:  7.70    BE:  -4.00    Apgar1:  9    Apgar5: 10\n",
      "1207: pH: 7.34   BDecf:  1.36    pCO2:  5.90    BE:  -2.60    Apgar1: 10    Apgar5: 10\n",
      "1208: pH: 7.23   BDecf:  5.84    pCO2:  6.60    BE:  -7.40    Apgar1:  9    Apgar5:  9\n",
      "1209: pH: 7.25   BDecf:  6.14    pCO2:  6.10    BE:  -7.60    Apgar1:  9    Apgar5:  9\n",
      "1210: pH: 7.25   BDecf:  1.39    pCO2:  7.70    BE:  -3.80    Apgar1:  9    Apgar5: 10\n",
      "1212: pH: 7.28   BDecf:  3.76    pCO2:  6.30    BE:  -5.00    Apgar1:  9    Apgar5: 10\n",
      "1213: pH: 7.18   BDecf:  6.84    pCO2:  7.30    BE:  -7.90    Apgar1:  3    Apgar5:  6\n",
      "1214: pH: 7.29   BDecf:  2.50    pCO2:  6.50    BE:  -4.10    Apgar1:  9    Apgar5: 10\n",
      "1216: pH: 7.30   BDecf: -0.15    pCO2:  7.10    BE:  -1.20    Apgar1:  9    Apgar5: 10\n",
      "1217: pH: 7.18   BDecf:  4.57    pCO2:  8.20    BE:  -6.70    Apgar1:  7    Apgar5:  8\n",
      "1218: pH: 7.39   BDecf:  4.14    pCO2:  4.40    BE:  -4.30    Apgar1:  9    Apgar5:  9\n",
      "1219: pH: 7.15   BDecf:  5.22    pCO2:  8.70    BE:  -7.50    Apgar1:  8    Apgar5:  9\n",
      "1220: pH: 7.30   BDecf:  3.52    pCO2:  6.00    BE:  -4.70    Apgar1:  9    Apgar5: 10\n",
      "1221: pH: 7.35   BDecf:  5.20    pCO2:  4.70    BE:  -5.50    Apgar1:  9    Apgar5: 10\n",
      "1222: pH: 7.32   BDecf:  3.68    pCO2:  5.60    BE:  -4.90    Apgar1:  9    Apgar5: 10\n",
      "1223: pH: 7.37   BDecf:  0.16    pCO2:  5.70    BE:  -1.60    Apgar1: 10    Apgar5: 10\n",
      "1224: pH: 7.33   BDecf:  2.72    pCO2:  5.70    BE:  -4.10    Apgar1:  9    Apgar5:  9\n",
      "1225: pH: 7.28   BDecf:  2.49    pCO2:  6.70    BE:  -4.00    Apgar1:  9    Apgar5:  9\n",
      "1226: pH: 7.42   BDecf:  1.09    pCO2:  4.70    BE:  -2.00    Apgar1:  9    Apgar5: 10\n",
      "1227: pH: 7.31   BDecf:  2.22    pCO2:  6.20    BE:  -3.20    Apgar1:  9    Apgar5: 10\n",
      "1228: pH: 7.20   BDecf:  5.41    pCO2:  7.40    BE:  -7.30    Apgar1:  9    Apgar5: 10\n",
      "1229: pH: 7.13   BDecf:  6.21    pCO2:  8.80    BE:  -8.90    Apgar1:  9    Apgar5: 10\n",
      "1230: pH: 7.37   BDecf: -1.41    pCO2:  6.10    BE:  -0.20    Apgar1: 10    Apgar5: 10\n",
      "1231: pH: 7.28   BDecf: -0.06    pCO2:  7.50    BE:  -1.80    Apgar1:  8    Apgar5:  9\n",
      "1232: pH: 7.23   BDecf:  3.00    pCO2:  7.60    BE:  -5.40    Apgar1:  8    Apgar5:  8\n",
      "1233: pH: 7.36   BDecf:  0.43    pCO2:  5.80    BE:  -1.60    Apgar1: 10    Apgar5: 10\n",
      "1234: pH: 7.29   BDecf:  2.50    pCO2:  6.50    BE:  -4.20    Apgar1:  8    Apgar5:  9\n",
      "1235: pH: 7.21   BDecf:  4.26    pCO2:  7.60    BE:  -6.10    Apgar1:  9    Apgar5: 10\n",
      "1236: pH: 7.27   BDecf:  5.92    pCO2:  5.80    BE:  -7.40    Apgar1:  9    Apgar5: 10\n",
      "1237: pH: 7.28   BDecf:  4.40    pCO2:  6.10    BE:  -5.10    Apgar1:  9    Apgar5:  9\n",
      "1238: pH: 7.23   BDecf:  5.27    pCO2:  6.80    BE:  -7.00    Apgar1:  8    Apgar5:  8\n",
      "1239: pH: 7.12   BDecf:  9.46    pCO2:  7.60    BE: -11.70    Apgar1:  8    Apgar5:  8\n",
      "1240: pH: 7.32   BDecf: -2.96    pCO2:  7.50    BE:  -2.30    Apgar1:  9    Apgar5:  9\n",
      "1241: pH: 6.99   BDecf: 12.12    pCO2:  9.80    BE: -15.30    Apgar1:  8    Apgar5:  9\n",
      "1242: pH: 7.27   BDecf:  2.19    pCO2:  7.00    BE:  -3.80    Apgar1:  8    Apgar5:  8\n",
      "1243: pH: 7.24   BDecf:  1.77    pCO2:  7.80    BE:  -4.10    Apgar1: 10    Apgar5: 10\n",
      "1244: pH: 7.06   BDecf:  8.48    pCO2:  9.70    BE: -11.30    Apgar1:  9    Apgar5:  9\n",
      "1245: pH: 7.12   BDecf:  7.91    pCO2:  8.30    BE: -10.70    Apgar1:  6    Apgar5:  7\n",
      "1246: pH: 7.38   BDecf:  3.90    pCO2:  4.60    BE:  -4.20    Apgar1:  9    Apgar5:  9\n",
      "1247: pH: 7.32   BDecf: -0.86    pCO2:  6.90    BE:  -1.00    Apgar1:  9    Apgar5: 10\n",
      "1248: pH: 7.33   BDecf: -0.50    pCO2:  6.60    BE:  -1.50    Apgar1:  9    Apgar5:  9\n",
      "1249: pH: 7.15   BDecf:  7.34    pCO2:  7.80    BE:  -9.30    Apgar1:  7    Apgar5:  8\n",
      "1250: pH: 7.28   BDecf:  1.85    pCO2:  6.90    BE:  -3.90    Apgar1:  9    Apgar5:  9\n",
      "1251: pH: 7.25   BDecf:  0.79    pCO2:  7.90    BE:  -2.30    Apgar1: 10    Apgar5: 10\n",
      "1252: pH: 7.25   BDecf:  3.47    pCO2:  7.00    BE:  -4.30    Apgar1:  8    Apgar5:  9\n",
      "1253: pH: 7.32   BDecf:  0.89    pCO2:  6.40    BE:  -1.70    Apgar1:  8    Apgar5:  9\n",
      "1254: pH: 7.27   BDecf:  4.99    pCO2:  6.10    BE:  -6.50    Apgar1:  6    Apgar5:  8\n",
      "1255: pH: 7.22   BDecf:  2.80    pCO2:  7.90    BE:  -5.00    Apgar1:  9    Apgar5:  9\n",
      "1256: pH: 7.32   BDecf:  4.73    pCO2:  5.30    BE:  -5.50    Apgar1:  9    Apgar5: 10\n",
      "1257: pH: 7.28   BDecf:  3.13    pCO2:  6.50    BE:  -4.40    Apgar1:  9    Apgar5:  9\n",
      "1258: pH: 7.17   BDecf:  5.43    pCO2:  8.10    BE:  -7.70    Apgar1:  8    Apgar5:  9\n",
      "1259: pH: 7.32   BDecf:  0.89    pCO2:  6.40    BE:  -1.80    Apgar1:  9    Apgar5: 10\n",
      "1260: pH: 7.31   BDecf:  3.25    pCO2:  5.90    BE:  -4.60    Apgar1:  9    Apgar5: 10\n",
      "1261: pH: 7.39   BDecf:  0.86    pCO2:  5.20    BE:  -1.70    Apgar1:  9    Apgar5:  9\n",
      "1262: pH: 7.21   BDecf:  5.62    pCO2:  7.10    BE:  -6.70    Apgar1:  9    Apgar5: 10\n",
      "1263: pH: 7.21   BDecf:  6.43    pCO2:  6.80    BE:  -8.30    Apgar1:  9    Apgar5: 10\n",
      "1264: pH: 7.35   BDecf:  3.33    pCO2:  5.20    BE:  -3.90    Apgar1:  9    Apgar5:  9\n",
      "1265: pH: 7.21   BDecf:  5.35    pCO2:  7.20    BE:  -6.30    Apgar1:  9    Apgar5: 10\n",
      "1266: pH: 7.23   BDecf:  2.43    pCO2:  7.80    BE:  -4.80    Apgar1:  8    Apgar5: 10\n",
      "1267: pH: 7.16   BDecf:  4.83    pCO2:  8.60    BE:  -7.70    Apgar1:  9    Apgar5:  9\n",
      "1268: pH: 7.34   BDecf:  3.19    pCO2:  5.40    BE:  -3.70    Apgar1:  9    Apgar5: 10\n",
      "1269: pH: 7.32   BDecf:  5.43    pCO2:  5.10    BE:  -6.10    Apgar1: 10    Apgar5: 10\n",
      "1270: pH: 7.18   BDecf:  7.10    pCO2:  7.20    BE:  -9.20    Apgar1:  9    Apgar5:  9\n",
      "1271: pH: 7.31   BDecf:  2.91    pCO2:  6.00    BE:  -4.00    Apgar1: 10    Apgar5: 10\n",
      "1272: pH: 7.24   BDecf:  5.83    pCO2:  6.40    BE:  -7.20    Apgar1:  9    Apgar5: 10\n",
      "1273: pH: 7.34   BDecf: -0.83    pCO2:  6.50    BE:  -0.60    Apgar1:  9    Apgar5:  9\n",
      "1274: pH: 7.15   BDecf:  7.10    pCO2:  7.90    BE:  -9.10    Apgar1:  9    Apgar5: 10\n",
      "1275: pH: 7.20   BDecf:  4.88    pCO2:  7.60    BE:  -6.60    Apgar1: 10    Apgar5: 10\n",
      "1276: pH: 7.32   BDecf:  5.08    pCO2:  5.20    BE:  -6.10    Apgar1:  9    Apgar5: 10\n",
      "1277: pH: 7.34   BDecf:  5.02    pCO2:  4.90    BE:  -5.80    Apgar1:  9    Apgar5: 10\n",
      "1278: pH: 7.18   BDecf:  4.06    pCO2:  8.40    BE:  -6.50    Apgar1:  8    Apgar5:  8\n",
      "1279: pH: 7.31   BDecf:  3.59    pCO2:  5.80    BE:  -4.60    Apgar1:  9    Apgar5: 10\n",
      "1280: pH: 7.29   BDecf:  1.19    pCO2:  6.90    BE:  -3.10    Apgar1:  9    Apgar5: 10\n",
      "1281: pH: 7.35   BDecf:  1.46    pCO2:  5.70    BE:  -4.10    Apgar1:  9    Apgar5: 10\n",
      "1282: pH: 7.32   BDecf:  2.98    pCO2:  5.80    BE:  -4.50    Apgar1:  8    Apgar5:  9\n",
      "1283: pH: 7.20   BDecf:  3.82    pCO2:  8.00    BE:  -5.00    Apgar1:  9    Apgar5: 10\n",
      "1284: pH: 7.16   BDecf:  5.07    pCO2:  8.50    BE:  -7.30    Apgar1: 10    Apgar5: 10\n",
      "1285: pH: 7.35   BDecf:  4.08    pCO2:  5.00    BE:  -4.70    Apgar1:  9    Apgar5: 10\n",
      "1286: pH: 7.14   BDecf:  9.06    pCO2:  7.30    BE: -10.90    Apgar1: 10    Apgar5: 10\n",
      "1287: pH: 7.19   BDecf:  3.42    pCO2:  8.40    BE:  -5.50    Apgar1:  9    Apgar5:  9\n",
      "1288: pH: 7.19   BDecf:  6.78    pCO2:  7.10    BE:  -8.60    Apgar1:  7    Apgar5:  8\n",
      "1289: pH: 7.20   BDecf:  2.23    pCO2:  8.60    BE:  -4.30    Apgar1:  9    Apgar5:  9\n",
      "1290: pH: 7.36   BDecf:  3.88    pCO2:  4.90    BE:  -4.10    Apgar1:  9    Apgar5: 10\n",
      "1291: pH: 6.93   BDecf: 12.09    pCO2: 11.90    BE: -15.60    Apgar1:  6    Apgar5:  8\n",
      "1292: pH: 7.28   BDecf:  1.22    pCO2:  7.10    BE:  -2.90    Apgar1:  9    Apgar5: 10\n",
      "1293: pH: 7.41   BDecf:  2.57    pCO2:  4.50    BE:  -2.80    Apgar1: 10    Apgar5: 10\n",
      "1294: pH: 7.30   BDecf:  2.52    pCO2:  6.30    BE:  -3.90    Apgar1:  9    Apgar5:  9\n",
      "1295: pH: 7.30   BDecf:  3.86    pCO2:  5.90    BE:  -5.40    Apgar1:  9    Apgar5: 10\n",
      "1296: pH: 7.20   BDecf:  7.00    pCO2:  6.80    BE:  -9.00    Apgar1:  9    Apgar5: 10\n",
      "1297: pH: 7.29   BDecf:  5.43    pCO2:  5.60    BE:  -6.80    Apgar1:  9    Apgar5:  9\n",
      "1298: pH: 7.26   BDecf:  6.48    pCO2:  5.80    BE:  -7.90    Apgar1:  8    Apgar5:  9\n",
      "1299: pH: 7.22   BDecf:  3.36    pCO2:  7.70    BE:  -5.60    Apgar1:  8    Apgar5:  8\n",
      "1300: pH: 7.35   BDecf:  4.83    pCO2:  4.80    BE:  -5.50    Apgar1:  9    Apgar5:  9\n",
      "1301: pH: 7.37   BDecf:  0.16    pCO2:  5.70    BE:  -0.80    Apgar1:  9    Apgar5:  9\n",
      "1302: pH: 7.24   BDecf:  4.38    pCO2:  6.90    BE:  -6.20    Apgar1:  8    Apgar5:  9\n",
      "1303: pH: 7.14   BDecf:  5.83    pCO2:  8.70    BE:  -8.40    Apgar1:  8    Apgar5:  9\n",
      "1304: pH: 7.30   BDecf:  3.19    pCO2:  6.10    BE:  -4.80    Apgar1:  9    Apgar5:  9\n",
      "1305: pH: 7.11   BDecf:  8.26    pCO2:  8.40    BE: -10.30    Apgar1:  6    Apgar5:  9\n",
      "1306: pH: 7.39   BDecf:  4.14    pCO2:  4.40    BE:  -4.10    Apgar1: 10    Apgar5: 10\n",
      "1307: pH: 7.26   BDecf:  4.66    pCO2:  6.40    BE:  -6.00    Apgar1:  9    Apgar5:  9\n",
      "1308: pH: 7.16   BDecf:  0.72    pCO2: 10.30    BE:  -3.70    Apgar1:  9    Apgar5:  9\n",
      "1309: pH: 7.33   BDecf:  1.29    pCO2:  6.10    BE:  -2.20    Apgar1:  9    Apgar5: 10\n",
      "1310: pH: 7.16   BDecf:  6.76    pCO2:  7.80    BE:  -8.70    Apgar1:  8    Apgar5:  9\n",
      "1311: pH: 7.22   BDecf:  1.69    pCO2:  8.30    BE:  -3.10    Apgar1:  9    Apgar5: 10\n",
      "1312: pH: 7.33   BDecf:  2.00    pCO2:  5.90    BE:  -3.40    Apgar1: 10    Apgar5: 10\n",
      "1313: pH: 7.34   BDecf:  3.92    pCO2:  5.20    BE:  -4.70    Apgar1:  9    Apgar5: 10\n",
      "1314: pH: 7.22   BDecf:  4.19    pCO2:  7.40    BE:  -6.10    Apgar1: 10    Apgar5: 10\n",
      "1315: pH: 7.19   BDecf:  3.42    pCO2:  8.40    BE:  -5.10    Apgar1:  9    Apgar5: 10\n",
      "1316: pH: 7.24   BDecf:  6.70    pCO2:  6.10    BE:  -8.00    Apgar1:  8    Apgar5:  8\n",
      "1317: pH: 7.23   BDecf:  6.97    pCO2:  6.20    BE:  -8.80    Apgar1: 10    Apgar5: 10\n",
      "1318: pH: 7.22   BDecf:  5.86    pCO2:  6.80    BE:  -7.90    Apgar1:  5    Apgar5:  7\n",
      "1319: pH: 7.32   BDecf:  2.98    pCO2:  5.80    BE:  -4.40    Apgar1:  7    Apgar5: 10\n",
      "1320: pH: 7.22   BDecf:  5.02    pCO2:  7.10    BE:  -6.80    Apgar1: 10    Apgar5: 10\n",
      "1321: pH: 7.32   BDecf:  1.23    pCO2:  6.30    BE:  -2.40    Apgar1: 10    Apgar5: 10\n",
      "1322: pH: 7.37   BDecf:  1.34    pCO2:  5.40    BE:  -2.40    Apgar1:  9    Apgar5: 10\n",
      "1323: pH: 7.35   BDecf:  4.83    pCO2:  4.80    BE:  -5.50    Apgar1:  9    Apgar5: 10\n",
      "1324: pH: 7.29   BDecf:  4.45    pCO2:  5.90    BE:  -5.50    Apgar1:  9    Apgar5: 10\n",
      "1325: pH: 7.08   BDecf:  4.49    pCO2: 11.10    BE:  -8.20    Apgar1:  7    Apgar5:  8\n",
      "1326: pH: 7.29   BDecf:  1.84    pCO2:  6.70    BE:  -3.80    Apgar1:  9    Apgar5:  9\n",
      "1327: pH: 7.31   BDecf:  2.57    pCO2:  6.10    BE:  -3.80    Apgar1:  9    Apgar5: 10\n",
      "1328: pH: 7.13   BDecf:  5.53    pCO2:  9.10    BE:  -8.20    Apgar1: 10    Apgar5: 10\n",
      "1329: pH: 7.09   BDecf:  6.29    pCO2:  9.90    BE:  -9.60    Apgar1:  6    Apgar5:  8\n",
      "1330: pH: 7.19   BDecf:  4.71    pCO2:  7.90    BE:  -7.10    Apgar1:  9    Apgar5: 10\n",
      "1331: pH: 7.41   BDecf:  0.42    pCO2:  5.00    BE:  -1.00    Apgar1:  9    Apgar5: 10\n",
      "1332: pH: 7.27   BDecf:  5.61    pCO2:  5.90    BE:  -6.70    Apgar1:  8    Apgar5:  8\n",
      "1333: pH: 7.24   BDecf:  4.38    pCO2:  6.90    BE:  -6.30    Apgar1:  8    Apgar5:  9\n",
      "1334: pH: 7.32   BDecf:  4.03    pCO2:  5.50    BE:  -5.30    Apgar1:  9    Apgar5: 10\n",
      "1335: pH: 7.26   BDecf:  2.53    pCO2:  7.10    BE:  -4.40    Apgar1: 10    Apgar5: 10\n",
      "1336: pH: 7.31   BDecf:  2.22    pCO2:  6.20    BE:  -3.90    Apgar1:  9    Apgar5: 10\n",
      "1337: pH: 7.23   BDecf: -0.41    pCO2:  8.80    BE:  -1.90    Apgar1:  9    Apgar5: 10\n",
      "1338: pH: 7.26   BDecf:  4.96    pCO2:  6.30    BE:  -6.40    Apgar1:  9    Apgar5: 10\n",
      "1339: pH: 7.31   BDecf: -0.16    pCO2:  6.90    BE:  -1.90    Apgar1:  9    Apgar5:  9\n",
      "1340: pH: 7.32   BDecf:  2.63    pCO2:  5.90    BE:  -3.80    Apgar1:  9    Apgar5: 10\n",
      "1341: pH: 7.14   BDecf:  3.76    pCO2:  9.60    BE:  -6.80    Apgar1:  9    Apgar5: 10\n",
      "1342: pH: 7.23   BDecf:  3.28    pCO2:  7.50    BE:  -5.20    Apgar1:  4    Apgar5:  7\n",
      "1343: pH: 7.27   BDecf:  0.32    pCO2:  7.60    BE:  -2.20    Apgar1:  9    Apgar5: 10\n",
      "1344: pH: 7.24   BDecf:  2.93    pCO2:  7.40    BE:  -4.90    Apgar1:  9    Apgar5: 10\n",
      "1345: pH: 7.41   BDecf:  3.86    pCO2:  4.20    BE:  -3.80    Apgar1: 10    Apgar5: 10\n",
      "1346: pH: 7.31   BDecf:  4.27    pCO2:  5.60    BE:  -5.40    Apgar1: 10    Apgar5: 10\n",
      "1347: pH: 7.14   BDecf:  8.60    pCO2:  7.50    BE: -10.80    Apgar1: 10    Apgar5: 10\n",
      "1348: pH: 7.11   BDecf: 10.20    pCO2:  7.50    BE: -12.40    Apgar1:  8    Apgar5:  9\n",
      "1349: pH: 7.32   BDecf:  0.89    pCO2:  6.40    BE:  -1.80    Apgar1:  9    Apgar5: 10\n",
      "1350: pH: 7.18   BDecf:  6.08    pCO2:  7.60    BE:  -8.40    Apgar1:  9    Apgar5:  9\n",
      "1351: pH: 7.15   BDecf:  5.92    pCO2:  8.40    BE:  -7.10    Apgar1:  9    Apgar5: 10\n",
      "1352: pH: 7.18   BDecf:  2.04    pCO2:  9.20    BE:  -4.90    Apgar1:  8    Apgar5:  9\n",
      "1353: pH: 7.20   BDecf:  5.68    pCO2:  7.30    BE:  -7.70    Apgar1:  9    Apgar5: 10\n",
      "1354: pH: 7.28   BDecf: -0.70    pCO2:  7.70    BE:  -0.90    Apgar1: 10    Apgar5: 10\n",
      "1355: pH: 7.27   BDecf:  4.06    pCO2:  6.40    BE:  -5.60    Apgar1:  9    Apgar5: 10\n",
      "1357: pH: 7.21   BDecf:  5.62    pCO2:  7.10    BE:  -7.40    Apgar1:  9    Apgar5: 10\n",
      "1358: pH: 7.14   BDecf:  6.52    pCO2:  8.40    BE:  -8.80    Apgar1:  5    Apgar5:  8\n",
      "1359: pH: 6.95   BDecf: 11.59    pCO2: 11.50    BE: -15.30    Apgar1:  3    Apgar5:  6\n",
      "1360: pH: 7.16   BDecf:  6.28    pCO2:  8.00    BE:  -8.70    Apgar1:  5    Apgar5:  7\n",
      "1361: pH: 7.02   BDecf:  7.73    pCO2: 11.40    BE: -11.40    Apgar1:  1    Apgar5:  6\n",
      "1362: pH: 7.43   BDecf:  0.46    pCO2:  4.70    BE:  -0.80    Apgar1:  9    Apgar5: 10\n",
      "1363: pH: 7.25   BDecf:  7.03    pCO2:  5.80    BE:  -8.10    Apgar1:  7    Apgar5:  9\n",
      "1364: pH: 7.32   BDecf:  3.68    pCO2:  5.60    BE:  -4.40    Apgar1: 10    Apgar5: 10\n",
      "1365: pH: 7.39   BDecf:  3.32    pCO2:  4.60    BE:  -4.50    Apgar1:  9    Apgar5: 10\n",
      "1366: pH: 7.30   BDecf:  4.19    pCO2:  5.80    BE:  -5.20    Apgar1:  9    Apgar5:  9\n",
      "1367: pH: 7.37   BDecf:  2.90    pCO2:  5.00    BE:  -3.40    Apgar1:  9    Apgar5: 10\n",
      "1368: pH: 7.21   BDecf:  0.74    pCO2:  8.90    BE:  -3.30    Apgar1:  8    Apgar5:  9\n",
      "1369: pH: 7.30   BDecf:  2.85    pCO2:  6.20    BE:  -3.40    Apgar1: 10    Apgar5: 10\n",
      "1370: pH: 7.03   BDecf:  6.76    pCO2: 11.60    BE:  -8.30    Apgar1:  5    Apgar5:  6\n",
      "1371: pH: 7.18   BDecf:  4.82    pCO2:  8.10    BE:  -7.40    Apgar1:  3    Apgar5:  6\n",
      "1372: pH: 7.29   BDecf:  4.45    pCO2:  5.90    BE:  -5.80    Apgar1:  9    Apgar5:  9\n",
      "1374: pH: 7.19   BDecf:  8.08    pCO2:  6.60    BE:  -9.60    Apgar1:  8    Apgar5:  9\n",
      "1375: pH: 7.25   BDecf:  2.87    pCO2:  7.20    BE:  -4.00    Apgar1: 10    Apgar5: 10\n",
      "1376: pH: 7.16   BDecf:  8.45    pCO2:  7.10    BE: -10.40    Apgar1:  8    Apgar5:  8\n",
      "1377: pH: 7.26   BDecf:  5.88    pCO2:  6.00    BE:  -7.20    Apgar1:  9    Apgar5:  9\n",
      "1378: pH: 7.30   BDecf: -0.15    pCO2:  7.10    BE:  -1.30    Apgar1: 10    Apgar5: 10\n",
      "1379: pH: 7.27   BDecf:  0.63    pCO2:  7.50    BE:  -2.40    Apgar1:  9    Apgar5: 10\n",
      "1380: pH: 7.26   BDecf:  3.75    pCO2:  6.70    BE:  -5.50    Apgar1: 10    Apgar5: 10\n",
      "1381: pH: 7.21   BDecf:  5.62    pCO2:  7.10    BE:  -7.40    Apgar1:  9    Apgar5:  9\n",
      "1382: pH: 7.13   BDecf:  8.24    pCO2:  7.90    BE: -10.30    Apgar1:  8    Apgar5:  8\n",
      "1384: pH: 7.24   BDecf:  3.51    pCO2:  7.20    BE:  -5.30    Apgar1:  9    Apgar5:  9\n",
      "1385: pH: 7.23   BDecf:  3.56    pCO2:  7.40    BE:  -5.60    Apgar1:  9    Apgar5: 10\n",
      "1386: pH: 7.37   BDecf:  0.55    pCO2:  5.60    BE:  -1.40    Apgar1:  9    Apgar5:  9\n",
      "1387: pH: 7.28   BDecf:  2.49    pCO2:  6.70    BE:  -4.10    Apgar1:  9    Apgar5:  9\n",
      "1388: pH: 7.32   BDecf:  5.43    pCO2:  5.10    BE:  -5.90    Apgar1:  9    Apgar5: 10\n",
      "1389: pH: 7.24   BDecf:  4.09    pCO2:  7.00    BE:  -5.60    Apgar1:  9    Apgar5: 10\n",
      "1390: pH: 7.27   BDecf:  2.50    pCO2:  6.90    BE:  -4.10    Apgar1:  8    Apgar5:  9\n",
      "1391: pH: 7.21   BDecf:  6.43    pCO2:  6.80    BE:  -8.10    Apgar1:  8    Apgar5:  9\n",
      "1392: pH: 7.26   BDecf:  6.48    pCO2:  5.80    BE:  -8.10    Apgar1:  3    Apgar5:  6\n",
      "1393: pH: 7.36   BDecf:  5.03    pCO2:  4.60    BE:  -5.70    Apgar1:  9    Apgar5: 10\n",
      "1394: pH: 7.20   BDecf:  4.62    pCO2:  7.70    BE:  -6.80    Apgar1:  5    Apgar5:  7\n",
      "1395: pH: 7.32   BDecf:  2.98    pCO2:  5.80    BE:  -4.60    Apgar1: 10    Apgar5: 10\n",
      "1396: pH: 7.29   BDecf:  0.21    pCO2:  7.20    BE:  -1.80    Apgar1:  9    Apgar5:  9\n",
      "1397: pH: 7.24   BDecf:  2.93    pCO2:  7.40    BE:  -4.50    Apgar1:  9    Apgar5: 10\n",
      "1398: pH: 7.12   BDecf:  6.59    pCO2:  8.90    BE:  -9.30    Apgar1:  6    Apgar5:  8\n",
      "1399: pH: 7.28   BDecf:  2.17    pCO2:  6.80    BE:  -3.60    Apgar1:  3    Apgar5:  6\n",
      "1400: pH: 7.13   BDecf:  8.69    pCO2:  7.70    BE: -10.80    Apgar1:  9    Apgar5:  9\n",
      "1401: pH: 7.16   BDecf:  5.31    pCO2:  8.40    BE:  -8.00    Apgar1:  8    Apgar5:  8\n",
      "1402: pH: 7.30   BDecf:  0.85    pCO2:  6.80    BE:  -1.90    Apgar1:  9    Apgar5: 10\n",
      "1403: pH: 7.20   BDecf:  2.50    pCO2:  8.50    BE:  -4.80    Apgar1:  9    Apgar5: 10\n",
      "1404: pH: 7.18   BDecf:  7.35    pCO2:  7.10    BE:  -8.40    Apgar1:  3    Apgar5:  6\n",
      "1405: pH: 7.23   BDecf:  2.43    pCO2:  7.80    BE:  -4.70    Apgar1:  7    Apgar5:  7\n",
      "1406: pH: 7.07   BDecf:  5.73    pCO2: 10.80    BE:  -9.00    Apgar1:  4    Apgar5:  6\n",
      "1407: pH: 7.26   BDecf:  3.44    pCO2:  6.80    BE:  -5.20    Apgar1:  8    Apgar5:  9\n",
      "1408: pH: 7.28   BDecf: -0.06    pCO2:  7.50    BE:  -2.10    Apgar1:  7    Apgar5:  8\n",
      "1409: pH: 7.21   BDecf:  3.18    pCO2:  8.00    BE:  -5.30    Apgar1:  3    Apgar5:  7\n",
      "1410: pH: 7.13   BDecf:  6.89    pCO2:  8.50    BE:  -9.20    Apgar1:  9    Apgar5:  9\n",
      "1411: pH: 7.32   BDecf:  3.33    pCO2:  5.70    BE:  -4.00    Apgar1:  9    Apgar5: 10\n",
      "1412: pH: 7.20   BDecf:  6.47    pCO2:  7.00    BE:  -8.30    Apgar1:  4    Apgar5:  6\n",
      "1413: pH: 7.29   BDecf:  2.17    pCO2:  6.60    BE:  -3.90    Apgar1:  9    Apgar5: 10\n",
      "1414: pH: 7.35   BDecf:  4.08    pCO2:  5.00    BE:  -4.50    Apgar1:  9    Apgar5: 10\n",
      "1415: pH: 7.40   BDecf:  4.00    pCO2:  4.30    BE:  -4.00    Apgar1:  9    Apgar5: 10\n",
      "1416: pH: 7.19   BDecf:  6.27    pCO2:  7.30    BE:  -7.90    Apgar1:  8    Apgar5:  8\n",
      "1417: pH: 7.26   BDecf:  3.14    pCO2:  6.90    BE:  -5.10    Apgar1:  9    Apgar5: 10\n",
      "1418: pH: 6.98   BDecf: 14.39    pCO2:  8.70    BE: -17.40    Apgar1:  8    Apgar5:  9\n",
      "1420: pH: 7.30   BDecf:  0.85    pCO2:  6.80    BE:  -2.40    Apgar1:  9    Apgar5:  9\n",
      "1421: pH: 7.29   BDecf:  5.76    pCO2:  5.50    BE:  -6.80    Apgar1:  9    Apgar5:  9\n",
      "1422: pH: 7.23   BDecf:  2.43    pCO2:  7.80    BE:  -4.50    Apgar1:  9    Apgar5: 10\n",
      "1423: pH: 7.33   BDecf:  5.22    pCO2:  5.00    BE:  -6.10    Apgar1:  9    Apgar5: 10\n",
      "1424: pH: 7.18   BDecf:  4.31    pCO2:  8.30    BE:  -5.60    Apgar1:  9    Apgar5: 10\n",
      "1425: pH: 7.03   BDecf:  7.84    pCO2: 11.00    BE: -10.70    Apgar1:  6    Apgar5:  9\n",
      "1426: pH: 7.13   BDecf:  8.47    pCO2:  7.80    BE: -10.50    Apgar1:  9    Apgar5: 10\n",
      "1427: pH: 7.37   BDecf:  1.34    pCO2:  5.40    BE:  -1.90    Apgar1:  9    Apgar5:  9\n",
      "1428: pH: 7.34   BDecf:  2.83    pCO2:  5.50    BE:  -3.80    Apgar1:  9    Apgar5:  9\n",
      "1429: pH: 7.24   BDecf:  5.54    pCO2:  6.50    BE:  -6.90    Apgar1:  7    Apgar5:  7\n",
      "1430: pH: 7.19   BDecf:  7.82    pCO2:  6.70    BE:  -9.90    Apgar1:  8    Apgar5:  9\n",
      "1431: pH: 7.29   BDecf:  0.87    pCO2:  7.00    BE:  -3.00    Apgar1: 10    Apgar5: 10\n",
      "1432: pH: 7.34   BDecf:  3.56    pCO2:  5.30    BE:  -4.10    Apgar1:  9    Apgar5: 10\n",
      "1433: pH: 7.34   BDecf:  2.46    pCO2:  5.60    BE:  -3.10    Apgar1:  8    Apgar5:  9\n",
      "1434: pH: 7.26   BDecf:  6.48    pCO2:  5.80    BE:  -7.80    Apgar1:  9    Apgar5: 10\n",
      "1435: pH: 7.16   BDecf:  7.01    pCO2:  7.70    BE:  -8.00    Apgar1:  9    Apgar5: 10\n",
      "1436: pH: 7.38   BDecf:  2.30    pCO2:  5.00    BE:  -3.00    Apgar1:  9    Apgar5:  9\n",
      "1437: pH: 7.17   BDecf:  1.73    pCO2:  9.60    BE:  -2.30    Apgar1:  9    Apgar5: 10\n",
      "1438: pH: 7.14   BDecf:  3.29    pCO2:  9.80    BE:  -6.30    Apgar1:  9    Apgar5:  9\n",
      "1439: pH: 7.30   BDecf:  2.85    pCO2:  6.20    BE:  -4.40    Apgar1:  9    Apgar5:  9\n",
      "1440: pH: 7.36   BDecf:  1.96    pCO2:  5.40    BE:  -3.00    Apgar1:  9    Apgar5:  9\n",
      "1441: pH: 7.23   BDecf:  5.27    pCO2:  6.80    BE:  -6.90    Apgar1:  9    Apgar5: 10\n",
      "1442: pH: 7.28   BDecf:  0.58    pCO2:  7.30    BE:  -3.00    Apgar1:  9    Apgar5:  9\n",
      "1443: pH: 7.16   BDecf:  6.76    pCO2:  7.80    BE:  -7.90    Apgar1:  8    Apgar5:  9\n",
      "1444: pH: 7.38   BDecf:  1.90    pCO2:  5.10    BE:  -3.00    Apgar1:  9    Apgar5: 10\n",
      "1445: pH: 7.36   BDecf:  3.11    pCO2:  5.10    BE:  -4.10    Apgar1: 10    Apgar5: 10\n",
      "1446: pH: 7.36   BDecf:  4.65    pCO2:  4.70    BE:  -5.50    Apgar1:  9    Apgar5: 10\n",
      "1447: pH: 7.14   BDecf:  7.91    pCO2:  7.80    BE:  -9.80    Apgar1: 10    Apgar5: 10\n",
      "1448: pH: 7.24   BDecf:  6.99    pCO2:  6.00    BE:  -8.20    Apgar1:  9    Apgar5:  9\n",
      "1449: pH: 7.29   BDecf:  3.80    pCO2:  6.10    BE:  -5.00    Apgar1:  9    Apgar5: 10\n",
      "1450: pH: 7.27   BDecf:  6.55    pCO2:  5.60    BE:  -7.90    Apgar1:  6    Apgar5:  7\n",
      "1451: pH: 7.05   BDecf:  9.05    pCO2:  9.70    BE: -12.10    Apgar1:  7    Apgar5:  8\n",
      "1452: pH: 7.10   BDecf:  7.35    pCO2:  9.10    BE:  -9.70    Apgar1:  8    Apgar5:  9\n",
      "1453: pH: 7.25   BDecf:  3.17    pCO2:  7.10    BE:  -5.00    Apgar1:  9    Apgar5:  9\n",
      "1454: pH: 7.23   BDecf:  5.84    pCO2:  6.60    BE:  -7.20    Apgar1:  9    Apgar5: 10\n",
      "1455: pH: 7.05   BDecf:  9.05    pCO2:  9.70    BE: -11.80    Apgar1:  7    Apgar5:  9\n",
      "1456: pH: 7.27   BDecf:  3.12    pCO2:  6.70    BE:  -5.00    Apgar1:  9    Apgar5:  9\n",
      "1457: pH: 7.18   BDecf:  2.54    pCO2:  9.00    BE:  -3.40    Apgar1:  8    Apgar5:  9\n",
      "1458: pH: 7.24   BDecf:  6.12    pCO2:  6.30    BE:  -7.30    Apgar1:  9    Apgar5:  9\n",
      "1459: pH: 7.28   BDecf:  5.04    pCO2:  5.90    BE:  -6.30    Apgar1: 10    Apgar5: 10\n",
      "1460: pH: 7.26   BDecf:  2.53    pCO2:  7.10    BE:  -4.10    Apgar1:  9    Apgar5: 10\n",
      "1461: pH: 7.32   BDecf:  1.58    pCO2:  6.20    BE:  -2.80    Apgar1:  9    Apgar5:  9\n",
      "1462: pH: 7.25   BDecf:  1.68    pCO2:  7.60    BE:  -3.90    Apgar1:  9    Apgar5:  9\n",
      "1463: pH: 7.23   BDecf:  3.56    pCO2:  7.40    BE:  -5.10    Apgar1:  9    Apgar5: 10\n",
      "1464: pH: 7.26   BDecf:  3.44    pCO2:  6.80    BE:  -4.80    Apgar1:  8    Apgar5:  9\n",
      "1465: pH: 7.26   BDecf:  7.09    pCO2:  5.60    BE:  -8.20    Apgar1:  9    Apgar5:  9\n",
      "1466: pH: 7.10   BDecf:  8.61    pCO2:  8.50    BE: -11.10    Apgar1:  9    Apgar5: 10\n",
      "1467: pH: 7.16   BDecf:  6.76    pCO2:  7.80    BE:  -8.80    Apgar1:  9    Apgar5:  9\n",
      "1468: pH: 7.11   BDecf:  6.11    pCO2:  9.40    BE:  -8.80    Apgar1:  9    Apgar5: 10\n",
      "1469: pH: 7.39   BDecf:  2.09    pCO2:  4.90    BE:  -2.90    Apgar1: 10    Apgar5: 10\n",
      "1470: pH: 7.09   BDecf:  7.93    pCO2:  9.10    BE: -10.40    Apgar1:  8    Apgar5:  9\n",
      "1471: pH: 7.18   BDecf:  2.04    pCO2:  9.20    BE:  -4.50    Apgar1:  9    Apgar5:  9\n",
      "1472: pH: 7.14   BDecf:  6.29    pCO2:  8.50    BE:  -9.10    Apgar1:  8    Apgar5:  8\n",
      "1473: pH: 7.22   BDecf:  4.19    pCO2:  7.40    BE:  -5.80    Apgar1:  8    Apgar5: 10\n",
      "1474: pH: 7.27   BDecf:  3.43    pCO2:  6.60    BE:  -5.30    Apgar1: 10    Apgar5: 10\n",
      "1475: pH: 7.18   BDecf:  4.31    pCO2:  8.30    BE:  -6.60    Apgar1: 10    Apgar5: 10\n",
      "1476: pH: 7.26   BDecf:  4.66    pCO2:  6.40    BE:  -6.10    Apgar1:  8    Apgar5:  9\n",
      "1477: pH: 7.17   BDecf:  3.70    pCO2:  8.80    BE:  -6.20    Apgar1:  9    Apgar5: 10\n",
      "1478: pH: 7.27   BDecf:  5.61    pCO2:  5.90    BE:  -7.10    Apgar1:  9    Apgar5: 10\n",
      "1479: pH: 7.24   BDecf:  4.38    pCO2:  6.90    BE:  -5.60    Apgar1:  8    Apgar5:  9\n",
      "1480: pH: 7.13   BDecf:  6.66    pCO2:  8.60    BE:  -9.30    Apgar1:  7    Apgar5:  8\n",
      "1481: pH: 7.29   BDecf:  2.50    pCO2:  6.50    BE:  -4.10    Apgar1:  8    Apgar5:  9\n",
      "1482: pH: 7.22   BDecf:  5.30    pCO2:  7.00    BE:  -6.90    Apgar1:  9    Apgar5: 10\n",
      "1483: pH: 7.25   BDecf:  3.47    pCO2:  7.00    BE:  -5.40    Apgar1:  7    Apgar5:  9\n",
      "1484: pH: 7.21   BDecf:  7.79    pCO2:  6.30    BE:  -9.50    Apgar1:  7    Apgar5:  7\n",
      "1485: pH: 7.16   BDecf:  4.83    pCO2:  8.60    BE:  -7.50    Apgar1:  7    Apgar5:  9\n",
      "1486: pH: 7.19   BDecf:  1.61    pCO2:  9.10    BE:  -4.50    Apgar1:  8    Apgar5:  9\n",
      "1487: pH: 7.14   BDecf:  8.37    pCO2:  7.60    BE: -10.30    Apgar1:  4    Apgar5:  8\n",
      "1488: pH: 7.14   BDecf:  7.91    pCO2:  7.80    BE: -10.30    Apgar1:  8    Apgar5:  8\n",
      "1489: pH: 7.27   BDecf:  2.81    pCO2:  6.80    BE:  -4.80    Apgar1:  9    Apgar5:  9\n",
      "1490: pH: 6.93   BDecf: 11.52    pCO2: 12.30    BE: -15.40    Apgar1:  5    Apgar5:  6\n",
      "1491: pH: 7.16   BDecf:  1.93    pCO2:  9.80    BE:  -4.60    Apgar1:  9    Apgar5:  9\n",
      "1492: pH: 7.30   BDecf:  2.52    pCO2:  6.30    BE:  -4.00    Apgar1:  9    Apgar5:  9\n",
      "1493: pH: 7.26   BDecf:  0.10    pCO2:  7.90    BE:  -2.70    Apgar1:  9    Apgar5: 10\n",
      "1494: pH: 7.10   BDecf:  8.61    pCO2:  8.50    BE: -11.50    Apgar1:  9    Apgar5: 10\n",
      "1495: pH: 7.03   BDecf:  6.58    pCO2: 11.70    BE: -10.30    Apgar1:  4    Apgar5:  8\n",
      "1496: pH: 7.25   BDecf:  6.44    pCO2:  6.00    BE:  -7.80    Apgar1:  8    Apgar5:  9\n",
      "1497: pH: 7.28   BDecf: -0.38    pCO2:  7.60    BE:  -1.30    Apgar1: 10    Apgar5: 10\n",
      "1498: pH: 7.40   BDecf:  1.90    pCO2:  4.80    BE:  -2.60    Apgar1:  9    Apgar5:  9\n",
      "1499: pH: 7.24   BDecf:  3.80    pCO2:  7.10    BE:  -5.70    Apgar1:  9    Apgar5: 10\n",
      "1500: pH: 7.34   BDecf:  4.29    pCO2:  5.10    BE:  -5.10    Apgar1:  9    Apgar5:  9\n",
      "1501: pH: 7.16   BDecf:  1.93    pCO2:  9.80    BE:  -4.80    Apgar1:  9    Apgar5:  9\n",
      "1502: pH: 7.26   BDecf:  5.88    pCO2:  6.00    BE:  -7.30    Apgar1:  9    Apgar5: 10\n",
      "1503: pH: 7.31   BDecf:  3.59    pCO2:  5.80    BE:  -4.70    Apgar1:  9    Apgar5: 10\n",
      "1504: pH: 7.28   BDecf:  2.49    pCO2:  6.70    BE:  -4.10    Apgar1:  9    Apgar5: 10\n",
      "1505: pH: 7.24   BDecf:  6.12    pCO2:  6.30    BE:  -7.50    Apgar1:  9    Apgar5: 10\n",
      "1506: pH: 7.12   BDecf:  5.93    pCO2:  9.20    BE:  -8.40    Apgar1:  5    Apgar5:  8\n",
      "2001: pH: 7.03   BDecf: 22.52    pCO2:  2.80    BE: -23.70    Apgar1: 10    Apgar5: 10\n",
      "2002: pH: 7.27   BDecf:  3.75    pCO2:  6.50    BE:  -4.50    Apgar1:  7    Apgar5:  4\n",
      "2003: pH: 6.96   BDecf: 16.68    pCO2:  7.80    BE: -19.00    Apgar1:  6    Apgar5:  8\n",
      "2004: pH: 6.95   BDecf: 11.44    pCO2: 11.60    BE: -15.30    Apgar1:  6    Apgar5:  8\n",
      "2005: pH: 7.25   BDecf:  3.47    pCO2:  7.00    BE:  -5.50    Apgar1: 10    Apgar5: 10\n",
      "2007: pH: 7.04   BDecf: 20.42    pCO2:  3.80    BE: -21.80    Apgar1: 10    Apgar5: 10\n",
      "2008: pH: 6.98   BDecf: 13.43    pCO2:  9.30    BE: -16.70    Apgar1:  5    Apgar5:  7\n",
      "2009: pH: 6.96   BDecf: 20.34    pCO2:  5.40    BE: -23.00    Apgar1: 10    Apgar5: 10\n",
      "2010: pH: 7.30   BDecf: -0.48    pCO2:  7.20    BE:  -1.50    Apgar1: 10    Apgar5: 10\n",
      "2011: pH: 7.01   BDecf: 12.10    pCO2:  9.20    BE: -14.80    Apgar1:  3    Apgar5:  7\n",
      "2012: pH: 7.29   BDecf: -0.44    pCO2:  7.40    BE:  -1.40    Apgar1:  9    Apgar5:  9\n",
      "2013: pH: 6.85   BDecf: 22.63    pCO2:  6.40    BE: -25.30    Apgar1:  8    Apgar5:  8\n",
      "2014: pH: 7.32   BDecf:  2.28    pCO2:  6.00    BE:  -3.20    Apgar1: 10    Apgar5: 10\n",
      "2015: pH: 7.33   BDecf:  4.15    pCO2:  5.30    BE:  -5.10    Apgar1:  9    Apgar5: 10\n",
      "2016: pH: 7.27   BDecf:  1.88    pCO2:  7.10    BE:  -3.80    Apgar1:  9    Apgar5: 10\n",
      "2017: pH: 7.32   BDecf: -0.16    pCO2:  6.70    BE:  -2.00    Apgar1: 10    Apgar5: 10\n",
      "2018: pH: 7.31   BDecf:  3.93    pCO2:  5.70    BE:  -5.00    Apgar1: 10    Apgar5: 10\n",
      "2019: pH: 7.29   BDecf:  4.13    pCO2:  6.00    BE:  -5.60    Apgar1:  9    Apgar5:  9\n",
      "2020: pH: 7.15   BDecf:  3.09    pCO2:  9.60    BE:  -5.80    Apgar1:  4    Apgar5:  7\n",
      "2021: pH: 7.30   BDecf:  0.19    pCO2:  7.00    BE:  -2.20    Apgar1:  9    Apgar5: 10\n",
      "2022: pH: 7.28   BDecf: -0.38    pCO2:  7.60    BE:  -1.60    Apgar1:  9    Apgar5: 10\n",
      "2023: pH: 6.98   BDecf: 14.39    pCO2:  8.70    BE: -17.40    Apgar1:  6    Apgar5:  8\n",
      "2024: pH: 7.01   BDecf:  7.14    pCO2: 12.10    BE: -10.90    Apgar1:  2    Apgar5:  4\n",
      "2025: pH: 6.99   BDecf: 12.61    pCO2:  9.50    BE: -16.00    Apgar1:  8    Apgar5:  8\n",
      "2026: pH: 7.23   BDecf: -0.13    pCO2:  8.70    BE:  -2.10    Apgar1: 10    Apgar5: 10\n",
      "2027: pH: 7.31   BDecf:  1.88    pCO2:  6.30    BE:  -3.20    Apgar1:  9    Apgar5: 10\n",
      "2028: pH: 7.18   BDecf:  4.82    pCO2:  8.10    BE:  -7.20    Apgar1:  8    Apgar5:  9\n",
      "2029: pH: 7.28   BDecf:  1.22    pCO2:  7.10    BE:  -3.40    Apgar1: 10    Apgar5: 10\n",
      "2030: pH: 7.04   BDecf: 26.11    pCO2:  0.70    BE: -26.80    Apgar1: 10    Apgar5: 10\n",
      "2031: pH: 7.29   BDecf:  1.52    pCO2:  6.80    BE:  -2.90    Apgar1:  9    Apgar5:  9\n",
      "2032: pH: 7.26   BDecf:  3.14    pCO2:  6.90    BE:  -4.70    Apgar1:  9    Apgar5: 10\n",
      "2033: pH: 7.39   BDecf:  0.86    pCO2:  5.20    BE:  -1.50    Apgar1:  9    Apgar5:  9\n",
      "2035: pH: 7.26   BDecf:  2.23    pCO2:  7.20    BE:  -4.30    Apgar1:  8    Apgar5:  9\n",
      "2036: pH: 7.29   BDecf:  2.50    pCO2:  6.50    BE:  -3.70    Apgar1:  5    Apgar5:  7\n",
      "2037: pH: 7.25   BDecf:  1.09    pCO2:  7.80    BE:  -3.00    Apgar1:  9    Apgar5: 10\n",
      "2038: pH: 7.36   BDecf:  3.50    pCO2:  5.00    BE:  -4.00    Apgar1:  5    Apgar5:  8\n",
      "2039: pH: 7.32   BDecf: -0.51    pCO2:  6.80    BE:  -0.50    Apgar1:  9    Apgar5: 10\n",
      "2040: pH: 7.23   BDecf:  5.27    pCO2:  6.80    BE:  -7.00    Apgar1:  2    Apgar5:  6\n",
      "2041: pH: 7.37   BDecf:  3.69    pCO2:  4.80    BE:  -3.10    Apgar1:  9    Apgar5:  9\n",
      "2042: pH: 7.33   BDecf: -0.50    pCO2:  6.60    BE:  -0.80    Apgar1:  9    Apgar5: 10\n",
      "2043: pH: 7.08   BDecf: 10.92    pCO2:  7.90    BE: -13.30    Apgar1:  8    Apgar5:  9\n",
      "2044: pH: 7.02   BDecf:  9.13    pCO2: 10.60    BE: -12.30    Apgar1:  8    Apgar5:  8\n",
      "2045: pH: 7.03   BDecf:  8.91    pCO2: 10.40    BE: -12.20    Apgar1:  7    Apgar5:  9\n"
     ]
    }
   ],
   "source": [
    "for recno in sorted(all_meta.keys()):\n",
    "    # recno = '1001'\n",
    "    entry = all_meta[recno]['Outcome']\n",
    "    print('{:4}: pH:{:5.2f}   BDecf: {:5.2f}    pCO2: {:5.2f}    BE: {:6.2f}    Apgar1: {:2}    Apgar5: {:2}'.format(\n",
    "        recno, entry['pH'], entry['BDecf'], entry['pCO2'], entry['BE'], entry['Apgar1'], entry['Apgar5']))"
   ]
  },
  {
   "cell_type": "code",
   "execution_count": 12,
   "metadata": {},
   "outputs": [],
   "source": [
    "all_pH = [entry['Outcome']['pH'] for entry in all_meta.values()]\n",
    "all_BDecf = [entry['Outcome']['BDecf'] for entry in all_meta.values()]\n",
    "all_pCO2 = [entry['Outcome']['pCO2'] for entry in all_meta.values()]\n",
    "all_BE = [entry['Outcome']['BE'] for entry in all_meta.values()]\n",
    "all_Apgar1 = [entry['Outcome']['Apgar1'] for entry in all_meta.values()]\n",
    "all_Apgar5 = [entry['Outcome']['Apgar5'] for entry in all_meta.values()]\n",
    "\n",
    "all_pH_lin = [10**(entry['Outcome']['pH']-7) for entry in all_meta.values()]"
   ]
  },
  {
   "cell_type": "markdown",
   "metadata": {},
   "source": [
    "## Show pH vs Apgar5"
   ]
  },
  {
   "cell_type": "code",
   "execution_count": 13,
   "metadata": {},
   "outputs": [
    {
     "data": {
      "image/png": "[encoded data removed]",
      "text/plain": [
       "<Figure size 360x360 with 1 Axes>"
      ]
     },
     "metadata": {
      "needs_background": "light"
     },
     "output_type": "display_data"
    },
    {
     "data": {
      "image/png": "[encoded data removed]",
      "text/plain": [
       "<Figure size 360x360 with 1 Axes>"
      ]
     },
     "metadata": {
      "needs_background": "light"
     },
     "output_type": "display_data"
    }
   ],
   "source": [
    "display_metric_vs_apgar(all_pH, all_Apgar5, limits=[6.5, 7.5],thresh=7,\n",
    "                        title='pH vs Apgar5', xlabel='pH', ylabel='Apgar 5')   \n",
    "\n",
    "display_metric_vs_apgar(all_pH_lin, all_Apgar5, limits=[0,3], thresh=1,\n",
    "                        title='linearized pH vs Apgar5', xlabel='linearized pH', ylabel='Apgar 5')  "
   ]
  },
  {
   "cell_type": "markdown",
   "metadata": {},
   "source": [
    "## Show BDecf vs Apgar5"
   ]
  },
  {
   "cell_type": "code",
   "execution_count": 14,
   "metadata": {},
   "outputs": [
    {
     "name": "stdout",
     "output_type": "stream",
     "text": [
      "-3.4 26.11\n"
     ]
    },
    {
     "data": {
      "image/png": "[encoded data removed]",
      "text/plain": [
       "<Figure size 360x360 with 1 Axes>"
      ]
     },
     "metadata": {
      "needs_background": "light"
     },
     "output_type": "display_data"
    }
   ],
   "source": [
    "print(np.min(all_BDecf), np.max(all_BDecf))\n",
    "\n",
    "display_metric_vs_apgar(all_BDecf, all_Apgar5, limits=[-5, 30], thresh=12,\n",
    "                        title='BDecf vs Apgar5', xlabel='BDecf', ylabel='Apgar 5') "
   ]
  },
  {
   "cell_type": "markdown",
   "metadata": {},
   "source": [
    "### Drilldown:  BDecf vs Apgar5 for pH normal and abnormal pH"
   ]
  },
  {
   "cell_type": "code",
   "execution_count": 15,
   "metadata": {},
   "outputs": [
    {
     "data": {
      "image/png": "[encoded data removed]",
      "text/plain": [
       "<Figure size 360x360 with 1 Axes>"
      ]
     },
     "metadata": {
      "needs_background": "light"
     },
     "output_type": "display_data"
    },
    {
     "data": {
      "image/png": "[encoded data removed]",
      "text/plain": [
       "<Figure size 360x360 with 1 Axes>"
      ]
     },
     "metadata": {
      "needs_background": "light"
     },
     "output_type": "display_data"
    }
   ],
   "source": [
    "idx_subset = [i for i, x in enumerate(all_pH) if x <= 7]\n",
    "display_metric_vs_apgar([all_BDecf[i] for i in idx_subset], [all_Apgar5[i] for i in idx_subset], \n",
    "                        limits=[-5, 30], thresh=12,\n",
    "                        title='pH vs Apgar5 when pH < 7', xlabel='BDecf', ylabel='Apgar 5') \n",
    "\n",
    "idx_subset = [i for i, x in enumerate(all_pH) if x > 7]\n",
    "display_metric_vs_apgar([all_BDecf[i] for i in idx_subset], [all_Apgar5[i] for i in idx_subset], \n",
    "                        limits=[-5, 30], thresh=12,\n",
    "                        title='pH vs Apgar5 when pH > 7', xlabel='BDecf', ylabel='Apgar 5') "
   ]
  },
  {
   "cell_type": "markdown",
   "metadata": {},
   "source": [
    "## Show BE vs Apgar5"
   ]
  },
  {
   "cell_type": "code",
   "execution_count": 16,
   "metadata": {},
   "outputs": [
    {
     "name": "stdout",
     "output_type": "stream",
     "text": [
      "-26.8 -0.2\n"
     ]
    },
    {
     "data": {
      "image/png": "[encoded data removed]",
      "text/plain": [
       "<Figure size 360x360 with 1 Axes>"
      ]
     },
     "metadata": {
      "needs_background": "light"
     },
     "output_type": "display_data"
    }
   ],
   "source": [
    "print(np.min(all_BE), np.max(all_BE))\n",
    "display_metric_vs_apgar(all_BE, all_Apgar5, limits=[-30, 0], thresh=-8,\n",
    "                        title='BE vs Apgar5', xlabel='BE', ylabel='Apgar 5') "
   ]
  },
  {
   "cell_type": "markdown",
   "metadata": {},
   "source": [
    "### Drilldown:  BE vs Apgar5 for pH normal and abnormal pH"
   ]
  },
  {
   "cell_type": "code",
   "execution_count": 17,
   "metadata": {},
   "outputs": [
    {
     "data": {
      "image/png": "[encoded data removed]",
      "text/plain": [
       "<Figure size 360x360 with 1 Axes>"
      ]
     },
     "metadata": {
      "needs_background": "light"
     },
     "output_type": "display_data"
    },
    {
     "data": {
      "image/png": "[encoded data removed]",
      "text/plain": [
       "<Figure size 360x360 with 1 Axes>"
      ]
     },
     "metadata": {
      "needs_background": "light"
     },
     "output_type": "display_data"
    }
   ],
   "source": [
    "idx_subset = [i for i, x in enumerate(all_pH) if x <= 7]\n",
    "\n",
    "display_metric_vs_apgar([all_BE[i] for i in idx_subset], [all_Apgar5[i] for i in idx_subset], \n",
    "                        limits=[-30, 0], thresh=-8,\n",
    "                        title='BE vs Apgar5 when pH < 7', xlabel='BE', ylabel='Apgar 5') \n",
    "\n",
    "idx_subset = [i for i, x in enumerate(all_pH) if x > 7]\n",
    "display_metric_vs_apgar([all_BE[i] for i in idx_subset], [all_Apgar5[i] for i in idx_subset], \n",
    "                        limits=[-30, 0], thresh=-8,\n",
    "                        title='BE vs Apgar5 when pH > 7', xlabel='BE', ylabel='Apgar 5') \n"
   ]
  },
  {
   "cell_type": "markdown",
   "metadata": {},
   "source": [
    "## PCA"
   ]
  },
  {
   "cell_type": "code",
   "execution_count": 18,
   "metadata": {},
   "outputs": [],
   "source": [
    "all_features = list(zip(all_Apgar5, all_BE, all_pH_lin, all_pH))"
   ]
  },
  {
   "cell_type": "code",
   "execution_count": 19,
   "metadata": {},
   "outputs": [
    {
     "name": "stdout",
     "output_type": "stream",
     "text": [
      "4 4\n",
      "5 1\n",
      "6 14\n",
      "7 26\n",
      "8 71\n",
      "9 200\n",
      "10 225\n"
     ]
    }
   ],
   "source": [
    "# Determine feature count by APGAR\n",
    "counts = collections.defaultdict(int)\n",
    "feature_by_apgar = collections.defaultdict(list)\n",
    "for i, x in enumerate(all_Apgar5):\n",
    "    counts[x] += 1\n",
    "    feature_by_apgar[x].append(all_features[i])\n",
    "\n",
    "for k in sorted(counts.keys()):\n",
    "    print(k, counts[k])\n",
    "\n",
    "# equalize feature set without replace\n",
    "\n",
    "max_entries = 14\n",
    "train_features = []\n",
    "train_labels = []\n",
    "\n",
    "for k, v in feature_by_apgar.items():\n",
    "    if len(v) <= max_entries:\n",
    "        train_features += v\n",
    "        train_labels += [k] * len(v)\n",
    "    else:\n",
    "        train_labels += [k] * max_entries\n",
    "        for i in np.random.choice(np.arange(len(v)), size=max_entries, replace=False):\n",
    "            train_features.append(v[i])\n",
    "        \n",
    "train_features = np.vstack(train_features)"
   ]
  },
  {
   "cell_type": "code",
   "execution_count": 20,
   "metadata": {},
   "outputs": [
    {
     "name": "stdout",
     "output_type": "stream",
     "text": [
      "Error -- mean: 1.34   std: 0.86\n"
     ]
    },
    {
     "data": {
      "image/png": "[encoded data removed]",
      "text/plain": [
       "<Figure size 360x360 with 1 Axes>"
      ]
     },
     "metadata": {
      "needs_background": "light"
     },
     "output_type": "display_data"
    }
   ],
   "source": [
    "n_components = 1\n",
    "\n",
    "pca = PCA(n_components=n_components)\n",
    "pca.fit(train_features)\n",
    "predict = pca.inverse_transform((pca.transform(train_features)))\n",
    "\n",
    "display_predictions(train_labels, [x[0] for x in predict], title='predict vs Apgar5')"
   ]
  },
  {
   "cell_type": "code",
   "execution_count": 21,
   "metadata": {},
   "outputs": [
    {
     "data": {
      "text/plain": [
       "array([[-0.12138988, -0.98962742, -0.07341247, -0.02264235]])"
      ]
     },
     "execution_count": 21,
     "metadata": {},
     "output_type": "execute_result"
    }
   ],
   "source": [
    "pca.components_"
   ]
  },
  {
   "cell_type": "code",
   "execution_count": 22,
   "metadata": {},
   "outputs": [
    {
     "data": {
      "text/plain": [
       "array([0.8651614])"
      ]
     },
     "execution_count": 22,
     "metadata": {},
     "output_type": "execute_result"
    }
   ],
   "source": [
    "pca.explained_variance_ratio_ "
   ]
  },
  {
   "cell_type": "code",
   "execution_count": 23,
   "metadata": {},
   "outputs": [
    {
     "name": "stdout",
     "output_type": "stream",
     "text": [
      "  all_Apgar5,  all_BE,     all_pH_lin  all_pH\n",
      "[[ 1.12014946  1.93524394  0.14356013  0.04427774]\n",
      " [ 1.93524394 16.65978738  1.17036969  0.36097297]\n",
      " [ 0.14356013  1.17036969  0.96958845  0.02677767]\n",
      " [ 0.04427774  0.36097297  0.02677767  0.89102711]]\n"
     ]
    }
   ],
   "source": [
    "print('  all_Apgar5,  all_BE,     all_pH_lin  all_pH')\n",
    "print(pca.get_covariance())"
   ]
  },
  {
   "cell_type": "markdown",
   "metadata": {},
   "source": [
    "### Try again ignoring pH (log version)\n",
    "\n",
    "Conclusion:  (log) pH has little impact on estimate"
   ]
  },
  {
   "cell_type": "code",
   "execution_count": 24,
   "metadata": {},
   "outputs": [],
   "source": [
    "# strip pH from training set\n",
    "train_features = [x[:-1] for x in train_features]"
   ]
  },
  {
   "cell_type": "code",
   "execution_count": 25,
   "metadata": {},
   "outputs": [
    {
     "name": "stdout",
     "output_type": "stream",
     "text": [
      "Error -- mean: 1.34   std: 0.86\n"
     ]
    },
    {
     "data": {
      "image/png": "[encoded data removed]",
      "text/plain": [
       "<Figure size 360x360 with 1 Axes>"
      ]
     },
     "metadata": {
      "needs_background": "light"
     },
     "output_type": "display_data"
    }
   ],
   "source": [
    "n_components = 1\n",
    "\n",
    "pca = PCA(n_components=n_components)\n",
    "pca.fit(train_features)\n",
    "predict = pca.inverse_transform((pca.transform(train_features)))\n",
    "\n",
    "display_predictions(train_labels, [x[0] for x in predict], title='predict vs Apgar5')"
   ]
  },
  {
   "cell_type": "code",
   "execution_count": 26,
   "metadata": {},
   "outputs": [
    {
     "data": {
      "text/plain": [
       "array([[-0.12137956, -0.98988739, -0.07341633]])"
      ]
     },
     "execution_count": 26,
     "metadata": {},
     "output_type": "execute_result"
    }
   ],
   "source": [
    "pca.components_"
   ]
  },
  {
   "cell_type": "code",
   "execution_count": 27,
   "metadata": {},
   "outputs": [
    {
     "data": {
      "text/plain": [
       "array([0.86524021])"
      ]
     },
     "execution_count": 27,
     "metadata": {},
     "output_type": "execute_result"
    }
   ],
   "source": [
    "pca.explained_variance_ratio_ "
   ]
  },
  {
   "cell_type": "code",
   "execution_count": 28,
   "metadata": {},
   "outputs": [
    {
     "name": "stdout",
     "output_type": "stream",
     "text": [
      "  all_Apgar5,  all_BE,     all_pH_lin  all_pH\n",
      "[[ 1.55331243  1.88169697  0.13955859]\n",
      " [ 1.88169697 16.66839324  1.13814297]\n",
      " [ 0.13955859  1.13814297  1.40699148]]\n"
     ]
    }
   ],
   "source": [
    "print('  all_Apgar5,  all_BE,     all_pH_lin  all_pH')\n",
    "print(pca.get_covariance())"
   ]
  },
  {
   "cell_type": "markdown",
   "metadata": {},
   "source": [
    "# Modeling:  Estimate Apgar5 using Outcome Metrics"
   ]
  },
  {
   "cell_type": "code",
   "execution_count": 29,
   "metadata": {},
   "outputs": [
    {
     "name": "stdout",
     "output_type": "stream",
     "text": [
      "4 4\n",
      "5 1\n",
      "6 14\n",
      "7 26\n",
      "8 71\n",
      "9 200\n",
      "10 225\n"
     ]
    }
   ],
   "source": [
    "# Determine feature count by APGAR\n",
    "counts = collections.defaultdict(int)\n",
    "feature_by_apgar5 = collections.defaultdict(list)\n",
    "for i, x in enumerate(all_Apgar5):\n",
    "    counts[x] += 1\n",
    "    feature_by_apgar5[x].append(all_features[i])\n",
    "\n",
    "for k in sorted(counts.keys()):\n",
    "    print(k, counts[k])"
   ]
  },
  {
   "cell_type": "code",
   "execution_count": 30,
   "metadata": {},
   "outputs": [],
   "source": [
    "all_features = list(zip(all_pH, all_BDecf, all_pCO2, all_BE, all_pH_lin))"
   ]
  },
  {
   "cell_type": "markdown",
   "metadata": {},
   "source": [
    "## SVM Regression #1\n",
    "Without Replacement (limit number of features by apgar)"
   ]
  },
  {
   "cell_type": "code",
   "execution_count": 31,
   "metadata": {},
   "outputs": [
    {
     "name": "stdout",
     "output_type": "stream",
     "text": [
      "4 4\n",
      "5 1\n",
      "6 14\n",
      "7 26\n",
      "8 71\n",
      "9 200\n",
      "10 225\n"
     ]
    }
   ],
   "source": [
    "# Determine feature count by APGAR\n",
    "counts = collections.defaultdict(int)\n",
    "feature_by_apgar5 = collections.defaultdict(list)\n",
    "for i, x in enumerate(all_Apgar5):\n",
    "    counts[x] += 1\n",
    "    feature_by_apgar5[x].append(all_features[i])\n",
    "\n",
    "for k in sorted(counts.keys()):\n",
    "    print(k, counts[k])"
   ]
  },
  {
   "cell_type": "code",
   "execution_count": 32,
   "metadata": {},
   "outputs": [
    {
     "data": {
      "text/plain": [
       "((75, 5), 75)"
      ]
     },
     "execution_count": 32,
     "metadata": {},
     "output_type": "execute_result"
    }
   ],
   "source": [
    "max_entries = 14\n",
    "train_features = []\n",
    "train_labels = []\n",
    "\n",
    "for k, v in feature_by_apgar5.items():\n",
    "    if len(v) <= max_entries:\n",
    "        train_features += v\n",
    "        train_labels += [k] * len(v)\n",
    "    else:\n",
    "        train_labels += [k] * max_entries\n",
    "        for i in np.random.choice(np.arange(len(v)), size=max_entries, replace=False):\n",
    "            train_features.append(v[i])\n",
    "        \n",
    "train_features = np.vstack(train_features)\n",
    "train_features.shape, len(train_labels)"
   ]
  },
  {
   "cell_type": "markdown",
   "metadata": {},
   "source": [
    "### Use SVM"
   ]
  },
  {
   "cell_type": "code",
   "execution_count": 33,
   "metadata": {},
   "outputs": [],
   "source": [
    "clf = svm.LinearSVR(max_iter=100000)\n",
    "clf.fit(train_features, train_labels) \n",
    "\n",
    "pred_train = clf.predict(train_features) \n",
    "pred_test = clf.predict(all_features) "
   ]
  },
  {
   "cell_type": "code",
   "execution_count": 34,
   "metadata": {},
   "outputs": [
    {
     "name": "stdout",
     "output_type": "stream",
     "text": [
      "Error -- mean: 1.14   std: 0.85\n"
     ]
    },
    {
     "data": {
      "image/png": "[encoded data removed]",
      "text/plain": [
       "<Figure size 360x360 with 1 Axes>"
      ]
     },
     "metadata": {
      "needs_background": "light"
     },
     "output_type": "display_data"
    },
    {
     "name": "stdout",
     "output_type": "stream",
     "text": [
      "Error -- mean: 1.12   std: 0.77\n"
     ]
    },
    {
     "data": {
      "image/png": "[encoded data removed]",
      "text/plain": [
       "<Figure size 360x360 with 1 Axes>"
      ]
     },
     "metadata": {
      "needs_background": "light"
     },
     "output_type": "display_data"
    }
   ],
   "source": [
    "display_predictions(train_labels, pred_train, title='Training Apgar Predictions')\n",
    "display_predictions(all_Apgar5, pred_test, title='All Apgar Predictions')"
   ]
  },
  {
   "cell_type": "markdown",
   "metadata": {},
   "source": [
    "## SVM Regression #2\n",
    "With Replacement (feature set for sames features for each apgar score)"
   ]
  },
  {
   "cell_type": "code",
   "execution_count": 35,
   "metadata": {},
   "outputs": [
    {
     "data": {
      "text/plain": [
       "((350, 5), 350)"
      ]
     },
     "execution_count": 35,
     "metadata": {},
     "output_type": "execute_result"
    }
   ],
   "source": [
    "# Trtaining Set Using Replacement\n",
    "\n",
    "max_entries = 50\n",
    "train_features = []\n",
    "train_labels = []\n",
    "\n",
    "for k, v in feature_by_apgar5.items():\n",
    "    train_labels += [k] * max_entries\n",
    "    for i in np.random.choice(np.arange(len(v)), size=max_entries, replace=True):\n",
    "        train_features.append(v[i])\n",
    "        \n",
    "train_features = np.vstack(train_features)\n",
    "train_features.shape, len(train_labels)"
   ]
  },
  {
   "cell_type": "code",
   "execution_count": 36,
   "metadata": {},
   "outputs": [],
   "source": [
    "#clf = svm.LinearSVR(max_iter=100000)\n",
    "clf = svm.SVR(max_iter=100000, gamma='scale')\n",
    "clf.fit(train_features, train_labels) \n",
    "\n",
    "pred_train = clf.predict(train_features) \n",
    "\n",
    "pred_test = clf.predict(all_features) "
   ]
  },
  {
   "cell_type": "code",
   "execution_count": 37,
   "metadata": {},
   "outputs": [
    {
     "name": "stdout",
     "output_type": "stream",
     "text": [
      "Error -- mean: 1.31   std: 1.13\n"
     ]
    },
    {
     "data": {
      "image/png": "[encoded data removed]",
      "text/plain": [
       "<Figure size 360x360 with 1 Axes>"
      ]
     },
     "metadata": {
      "needs_background": "light"
     },
     "output_type": "display_data"
    }
   ],
   "source": [
    "display_predictions(all_Apgar5, pred_test, title='All Apgar Predictions')"
   ]
  },
  {
   "cell_type": "code",
   "execution_count": null,
   "metadata": {},
   "outputs": [],
   "source": []
  },
  {
   "cell_type": "code",
   "execution_count": null,
   "metadata": {},
   "outputs": [],
   "source": []
  }
 ],
 "metadata": {
  "kernelspec": {
   "display_name": "Python 3",
   "language": "python",
   "name": "python3"
  },
  "language_info": {
   "codemirror_mode": {
    "name": "ipython",
    "version": 3
   },
   "file_extension": ".py",
   "mimetype": "text/x-python",
   "name": "python",
   "nbconvert_exporter": "python",
   "pygments_lexer": "ipython3",
   "version": "3.6.8"
  }
 },
 "nbformat": 4,
 "nbformat_minor": 2
}
